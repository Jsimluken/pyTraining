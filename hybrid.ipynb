{
 "cells": [
  {
   "cell_type": "code",
   "execution_count": 3,
   "metadata": {},
   "outputs": [],
   "source": [
    "import cv2\n",
    "import numpy as np\n",
    "import matplotlib.pyplot as plt\n",
    "from multithreshold import otsu\n",
    "import numpy as np\n",
    "import queue\n",
    "\n",
    "T1 = 0.03\n",
    "T2 = 0.04\n",
    "T3 = 0.085\n",
    "D_min = 5\n",
    "D_max = 25\n",
    "P = 50\n",
    "k = 8\n",
    "L = 256\n",
    "M = 2\n",
    "N = L // M\n",
    "\n",
    "\n",
    "\n",
    "def preprocess(path,T_ctr=0.02):\n",
    "    img = cv2.imread(path,0) # To gray scale\n",
    "    l_ctr = local_contrast(img) #caluculate  local contrast\n",
    "    if l_ctr < T_ctr:\n",
    "        clahe = cv2.createCLAHE() # This has hyper parameters!!\n",
    "        img = clahe.apply(img)\n",
    "    cv2.imwrite(\"processed_\"+path,img)\n",
    "\n",
    "\n",
    "def local_contrast(img,window=(3,3)):\n",
    "    contrasts = []\n",
    "    for i in range(img.shape[0]-window[0]+1):\n",
    "        for j in range(img.shape[1]-window[1]+1):\n",
    "            #print(i,j)\n",
    "            #contrasts.append(get_contrast(img[i:i+window[0],j:j+window[1]]))\n",
    "            I_max = int(np.max(img[i:i+window[0],j:j+window[1]]))\n",
    "            I_min = int(np.min(img[i:i+window[0],j:j+window[1]]))\n",
    "            ctr = (I_max-I_min)/(I_max+I_min+1e-10)\n",
    "            if ctr > 1:\n",
    "                print(ctr,I_max,I_min,i,j)\n",
    "            contrasts.append(ctr)\n",
    "    return sum(contrasts)/len(contrasts)\n",
    "\n",
    "def is_noise(S,k=8):\n",
    "    m = np.mean(S)\n",
    "    std = np.std(S)\n",
    "    black_count = len(np.argwhere(S==0))\n",
    "    return black_count > m + k*std\n",
    "\n",
    "def first_binarize(path):\n",
    "    img = cv2.imread(path,0)\n",
    "    ctr = local_contrast(img)\n",
    "    print(ctr)\n",
    "    if ctr <= T1:\n",
    "        img = TSMO(img,th_num=2)\n",
    "    elif ctr <= T2:\n",
    "        T_o,img_otsu = cv2.threshold(s_img,0,255,cv2.THRESH_BINARY+cv2.THRESH_OTSU)\n",
    "        img_TSMO,thresholds = TSMO(img,th_num=2)\n",
    "        T_o2 = thresholds[1]\n",
    "        nb1 = len(np.argwhere((T_o<img)&(T_o2>=img)))\n",
    "        nb2 = len(np.argwhere(T_o>= img))\n",
    "        if ((D_min <= abs(T_o2-T_o)<=D_max) and (nb1 <= P*nb2)):\n",
    "            img = img_TSMO\n",
    "        else:\n",
    "            img = img_otsu\n",
    "    elif ctr <= T3:\n",
    "        ret2,img = cv2.threshold(img,0,255,cv2.THRESH_BINARY+cv2.THRESH_OTSU)\n",
    "    else:\n",
    "        img,_ = TSMO(img,th_num=1)\n",
    "    outname = path.replace(\"processed\",\"g-binarized\")\n",
    "    cv2.imwrite(outname,img)\n",
    "    \n",
    "def second_binarize(path,window=(35,35)):\n",
    "    img = cv2.imread(path,0)\n",
    "    out_img = img.copy()\n",
    "    for i in range(img.shape[0] - window[0] + 1):\n",
    "        for j in range(img.shape[1] - window[1] + 1):\n",
    "            S = img[i:i+window[0],j:j+window[1]]\n",
    "            if is_noise(S):\n",
    "                out_img[i:i+window[0],j:j+window[1]] = cv2.ximgproc.niBlackThreshold(S,\n",
    "                                                                                    maxValue=255,\n",
    "                                                                                    type=cv2.THRESH_BINARY,\n",
    "                                                                                    blockSize=35,\n",
    "                                                                                    k=-0.2,\n",
    "                                                                                    binarizationMethod=cv2.ximgproc.BINARIZATION_NICK)\n",
    "    outname = path.replace(\"g-binarized\",\"completed\")\n",
    "    cv2.imwrite(outname,out_img)\n",
    "                \n",
    "def TSMO(img,th_num = 1,L=256,M=64):\n",
    "    hist = cv2.calcHist(\n",
    "        [img],\n",
    "        channels=[0],\n",
    "        mask=None,\n",
    "        histSize=[L],\n",
    "        ranges=[0, L]\n",
    "    )\n",
    "    thresholds2 = otsu.modified_TSMO(hist, M=M, L=L)\n",
    "    new_img = np.zeros_like(img)\n",
    "    #thresholds2 = sorted(thresholds2)\n",
    "    print(thresholds2)\n",
    "    new_img[img>thresholds2[th_num-1]] = 255\n",
    "    return new_img,thresholds2\n",
    "\n",
    "\n",
    "\n",
    "\n",
    "def noise_remove(path):\n",
    "    print(\"Preprocessing!!\")\n",
    "    preprocess(path)\n",
    "    print(\"First Stage!!\")\n",
    "    first_binarize(\"processed_\"+path)\n",
    "    print(\"Second Stage!!\")\n",
    "    second_binarize(\"g-binarized_\"+path)\n",
    "    "
   ]
  },
  {
   "cell_type": "code",
   "execution_count": null,
   "metadata": {},
   "outputs": [],
   "source": [
    "noise_remove(\"test.png\")"
   ]
  },
  {
   "cell_type": "code",
   "execution_count": null,
   "metadata": {},
   "outputs": [],
   "source": [
    "!ls"
   ]
  },
  {
   "cell_type": "code",
   "execution_count": null,
   "metadata": {},
   "outputs": [],
   "source": [
    "cv2.imwrite(\"binarized_dirty.jpg\",img)"
   ]
  },
  {
   "cell_type": "code",
   "execution_count": null,
   "metadata": {},
   "outputs": [],
   "source": [
    "ctr"
   ]
  },
  {
   "cell_type": "code",
   "execution_count": 19,
   "metadata": {},
   "outputs": [],
   "source": [
    "s_img = cv2.imread(\"processed_HW4.png\",0)"
   ]
  },
  {
   "cell_type": "code",
   "execution_count": 20,
   "metadata": {},
   "outputs": [
    {
     "data": {
      "text/plain": [
       "<matplotlib.image.AxesImage at 0x129ab16d8>"
      ]
     },
     "execution_count": 20,
     "metadata": {},
     "output_type": "execute_result"
    },
    {
     "data": {
      "image/png": "[encoded data removed]",
      "text/plain": [
       "<Figure size 432x288 with 1 Axes>"
      ]
     },
     "metadata": {
      "needs_background": "light"
     },
     "output_type": "display_data"
    }
   ],
   "source": [
    "#n_img = TSMO(s_img,th_num=1,M=32)\n",
    "_,n_img = cv2.threshold(s_img,0,255,cv2.THRESH_BINARY+cv2.THRESH_OTSU)\n",
    "plt.imshow(n_img)"
   ]
  },
  {
   "cell_type": "code",
   "execution_count": null,
   "metadata": {},
   "outputs": [],
   "source": [
    "n_img[0,0] + n_img[0,0]"
   ]
  },
  {
   "cell_type": "code",
   "execution_count": null,
   "metadata": {},
   "outputs": [],
   "source": [
    "n_img = TSMO(s_img,th_num=1,M=16)\n",
    "#th,n_img = cv2.threshold(s_img,0,255,cv2.THRESH_BINARY+cv2.THRESH_OTSU)\n",
    "plt.imshow(n_img)"
   ]
  },
  {
   "cell_type": "code",
   "execution_count": null,
   "metadata": {},
   "outputs": [],
   "source": [
    "first_binarize(\"test.png\")"
   ]
  },
  {
   "cell_type": "code",
   "execution_count": null,
   "metadata": {},
   "outputs": [],
   "source": [
    "new_img"
   ]
  },
  {
   "cell_type": "code",
   "execution_count": null,
   "metadata": {},
   "outputs": [],
   "source": [
    "arr = np.array([[12,1,15],[5,2,7],[2,8,1]])"
   ]
  },
  {
   "cell_type": "code",
   "execution_count": null,
   "metadata": {},
   "outputs": [],
   "source": [
    "arr[arr>5] = 255"
   ]
  },
  {
   "cell_type": "code",
   "execution_count": null,
   "metadata": {},
   "outputs": [],
   "source": [
    "res = cv2.ximgproc.niBlackThreshold(s_img,maxValue=255,type=cv2.THRESH_BINARY,blockSize=35,k=-0.2,binarizationMethod=cv2.ximgproc.BINARIZATION_NICK)\n",
    "plt.imshow(res)"
   ]
  },
  {
   "cell_type": "code",
   "execution_count": null,
   "metadata": {},
   "outputs": [],
   "source": [
    "bin(cv2.THRESH_OTSU+cv2.THRESH_BINARY_INV)"
   ]
  },
  {
   "cell_type": "code",
   "execution_count": null,
   "metadata": {},
   "outputs": [],
   "source": [
    "np.max(res)"
   ]
  },
  {
   "cell_type": "code",
   "execution_count": null,
   "metadata": {},
   "outputs": [],
   "source": [
    "first_binarize()"
   ]
  },
  {
   "cell_type": "code",
   "execution_count": null,
   "metadata": {},
   "outputs": [],
   "source": [
    "is_noise(res)"
   ]
  },
  {
   "cell_type": "code",
   "execution_count": null,
   "metadata": {},
   "outputs": [],
   "source": []
  },
  {
   "cell_type": "code",
   "execution_count": null,
   "metadata": {},
   "outputs": [],
   "source": [
    "plt.imshow(res)"
   ]
  },
  {
   "cell_type": "code",
   "execution_count": null,
   "metadata": {},
   "outputs": [],
   "source": [
    "arr = np.array([\n",
    "    [4,5,6],\n",
    "    [5,9,19],\n",
    "    [7,3,10]\n",
    "])"
   ]
  },
  {
   "cell_type": "code",
   "execution_count": null,
   "metadata": {},
   "outputs": [],
   "source": [
    "arr[(arr>4)&(arr<11)]"
   ]
  },
  {
   "cell_type": "code",
   "execution_count": null,
   "metadata": {},
   "outputs": [],
   "source": [
    "padding_img = np.zeros((11,11))"
   ]
  },
  {
   "cell_type": "code",
   "execution_count": null,
   "metadata": {},
   "outputs": [],
   "source": [
    "padding_img[1:-1,1:-1] = test_img"
   ]
  },
  {
   "cell_type": "code",
   "execution_count": 74,
   "metadata": {},
   "outputs": [],
   "source": [
    "#Post process\n",
    "def remove_isolated(img):\n",
    "    \"\"\"\n",
    "    img is binarized!!\n",
    "    Post process1\n",
    "    \"\"\"\n",
    "    padding_img = np.zeros((img.shape[0]+2,img.shape[1]+2))\n",
    "    padding_img[1:-1,1:-1] = img \n",
    "    check_filter = np.zeros((3,3)).astype(\"bool\") # all False!\n",
    "    check_filter[1,1] = True\n",
    "    for i in range(img.shape[0]):\n",
    "        for j in range(img.shape[1]):\n",
    "            tmp = padding_img[i:i+3,j:j+3]\n",
    "            if np.sum((tmp == 0) == check_filter) == 9:#all same\n",
    "                padding_img[i+1,j+1] = 255\n",
    "    return padding_img[1:-1,1:-1]\n",
    "                \n",
    "def fill_one_pixel_gap(img):\n",
    "    \"\"\"\n",
    "    post process 2\n",
    "    \"\"\"\n",
    "    padding_img = np.zeros((img.shape[0]+2,img.shape[1]+2))\n",
    "    padding_img[1:-1,1:-1] = img\n",
    "    check_filter = np.ones((3,3)).astype(\"bool\") # all True!\n",
    "    check_filter[1,1] = False\n",
    "    for i in range(img.shape[0]):\n",
    "        for j in range(img.shape[1]):\n",
    "            tmp = padding_img[i:i+3,j:j+3]\n",
    "            if np.sum((tmp == 0) == check_filter) == 9:\n",
    "                padding_img[i+1,j+1] = 0\n",
    "    return padding_img[1:-1,1:-1]\n",
    "\n",
    "def post_process(img):\n",
    "    img = remove_isolated(img)\n",
    "    img = fill_one_pixel_gap(img)\n",
    "    return img\n",
    "\n",
    "\n",
    "def get_connected_component(img):\n",
    "    import sys\n",
    "    sys.setrecursionlimit(10**6)\n",
    "    component_img = img.copy()\n",
    "    connected_component = {}\n",
    "    component_cnt = 0\n",
    "    \n",
    "    def search_connected(i,j):\n",
    "        print(i,j)\n",
    "        if i<0 or j<0 or i>=img.shape[0] or j>=img.shape[1]:\n",
    "            return\n",
    "        if component_img[i,j] != 0:\n",
    "            return\n",
    "        print(i,j,component_img[i,j])\n",
    "        component_img[i,j] = - component_cnt\n",
    "        connected_component[component_cnt].append((i,j))\n",
    "        for si in [-1,0,1]:\n",
    "            for sj in [-1,0,1]:\n",
    "                search_connected(i+si,j+sj)\n",
    "    \n",
    "    \n",
    "    for i in range(img.shape[0]):\n",
    "        for j in range(img.shape[1]):\n",
    "            if component_img[i,j] == 0:\n",
    "                component_cnt += 1\n",
    "                connected_component[component_cnt] = []\n",
    "                search_connected(i,j)\n",
    "    return connected_component\n",
    "\n",
    "\n",
    "def get_connected_component2(img):\n",
    "    component_img = img.copy()\n",
    "    queue = []\n",
    "    component_cnt = 0\n",
    "    connected_component = {}\n",
    "    \n",
    "    def check_range(i,j):\n",
    "        return i>=0 and j>=0 and i<img.shape[0] and j<img.shape[1]\n",
    "    \n",
    "    for i in range(img.shape[0]):\n",
    "        for j in range(img.shape[1]):\n",
    "            if component_img[i,j] == 0:\n",
    "                component_cnt += 1\n",
    "                connected_component[component_cnt] = []\n",
    "                queue.append((i,j))\n",
    "                while len(queue) >0:\n",
    "                    si,sj = queue[0]\n",
    "                    connected_component[component_cnt].append((si,sj))\n",
    "                    component_img[si,sj] = - component_cnt\n",
    "                    del queue[0]\n",
    "                    for di in [-1,0,1]:\n",
    "                        for dj in [-1,0,1]:\n",
    "                            if check_range(si + di,sj + dj) and \\\n",
    "                             not (si + di,sj + dj) in queue and \\\n",
    "                             not (si + di,sj + dj) in connected_component[component_cnt] and\\\n",
    "                             component_img[si + di,sj + dj] == 0:\n",
    "                                queue.append((si + di,sj + dj))\n",
    "    return connected_component,component_img\n",
    "                    \n",
    "    \n",
    "    "
   ]
  },
  {
   "cell_type": "code",
   "execution_count": 24,
   "metadata": {},
   "outputs": [],
   "source": [
    "p_img = post_process(n_img)"
   ]
  },
  {
   "cell_type": "code",
   "execution_count": 27,
   "metadata": {},
   "outputs": [
    {
     "data": {
      "text/plain": [
       "<matplotlib.image.AxesImage at 0x12bcae240>"
      ]
     },
     "execution_count": 27,
     "metadata": {},
     "output_type": "execute_result"
    },
    {
     "data": {
      "image/png": "[encoded data removed]",
      "text/plain": [
       "<Figure size 432x288 with 1 Axes>"
      ]
     },
     "metadata": {
      "needs_background": "light"
     },
     "output_type": "display_data"
    }
   ],
   "source": [
    "plt.imshow(p_img)"
   ]
  },
  {
   "cell_type": "code",
   "execution_count": null,
   "metadata": {},
   "outputs": [],
   "source": [
    "plt.imshow(res)"
   ]
  },
  {
   "cell_type": "code",
   "execution_count": 75,
   "metadata": {},
   "outputs": [],
   "source": [
    "res,cc = get_connected_component2(p_img)"
   ]
  },
  {
   "cell_type": "code",
   "execution_count": 45,
   "metadata": {},
   "outputs": [
    {
     "data": {
      "text/plain": [
       "[(0, 90)]"
      ]
     },
     "execution_count": 45,
     "metadata": {},
     "output_type": "execute_result"
    }
   ],
   "source": [
    "res[3]"
   ]
  },
  {
   "cell_type": "code",
   "execution_count": 6,
   "metadata": {},
   "outputs": [],
   "source": [
    "q = queue.Queue()"
   ]
  },
  {
   "cell_type": "code",
   "execution_count": null,
   "metadata": {},
   "outputs": [],
   "source": [
    "q.put(1)"
   ]
  },
  {
   "cell_type": "code",
   "execution_count": 11,
   "metadata": {},
   "outputs": [
    {
     "ename": "KeyboardInterrupt",
     "evalue": "",
     "output_type": "error",
     "traceback": [
      "\u001b[0;31m---------------------------------------------------------------------------\u001b[0m",
      "\u001b[0;31mKeyboardInterrupt\u001b[0m                         Traceback (most recent call last)",
      "\u001b[0;32m<ipython-input-11-4afd527a82ad>\u001b[0m in \u001b[0;36m<module>\u001b[0;34m\u001b[0m\n\u001b[0;32m----> 1\u001b[0;31m \u001b[0mq\u001b[0m\u001b[0;34m.\u001b[0m\u001b[0mget\u001b[0m\u001b[0;34m(\u001b[0m\u001b[0;34m)\u001b[0m\u001b[0;34m\u001b[0m\u001b[0;34m\u001b[0m\u001b[0m\n\u001b[0m",
      "\u001b[0;32m~/.pyenv/versions/miniconda3-latest/lib/python3.6/queue.py\u001b[0m in \u001b[0;36mget\u001b[0;34m(self, block, timeout)\u001b[0m\n\u001b[1;32m    162\u001b[0m             \u001b[0;32melif\u001b[0m \u001b[0mtimeout\u001b[0m \u001b[0;32mis\u001b[0m \u001b[0;32mNone\u001b[0m\u001b[0;34m:\u001b[0m\u001b[0;34m\u001b[0m\u001b[0;34m\u001b[0m\u001b[0m\n\u001b[1;32m    163\u001b[0m                 \u001b[0;32mwhile\u001b[0m \u001b[0;32mnot\u001b[0m \u001b[0mself\u001b[0m\u001b[0;34m.\u001b[0m\u001b[0m_qsize\u001b[0m\u001b[0;34m(\u001b[0m\u001b[0;34m)\u001b[0m\u001b[0;34m:\u001b[0m\u001b[0;34m\u001b[0m\u001b[0;34m\u001b[0m\u001b[0m\n\u001b[0;32m--> 164\u001b[0;31m                     \u001b[0mself\u001b[0m\u001b[0;34m.\u001b[0m\u001b[0mnot_empty\u001b[0m\u001b[0;34m.\u001b[0m\u001b[0mwait\u001b[0m\u001b[0;34m(\u001b[0m\u001b[0;34m)\u001b[0m\u001b[0;34m\u001b[0m\u001b[0;34m\u001b[0m\u001b[0m\n\u001b[0m\u001b[1;32m    165\u001b[0m             \u001b[0;32melif\u001b[0m \u001b[0mtimeout\u001b[0m \u001b[0;34m<\u001b[0m \u001b[0;36m0\u001b[0m\u001b[0;34m:\u001b[0m\u001b[0;34m\u001b[0m\u001b[0;34m\u001b[0m\u001b[0m\n\u001b[1;32m    166\u001b[0m                 \u001b[0;32mraise\u001b[0m \u001b[0mValueError\u001b[0m\u001b[0;34m(\u001b[0m\u001b[0;34m\"'timeout' must be a non-negative number\"\u001b[0m\u001b[0;34m)\u001b[0m\u001b[0;34m\u001b[0m\u001b[0;34m\u001b[0m\u001b[0m\n",
      "\u001b[0;32m~/.pyenv/versions/miniconda3-latest/lib/python3.6/threading.py\u001b[0m in \u001b[0;36mwait\u001b[0;34m(self, timeout)\u001b[0m\n\u001b[1;32m    293\u001b[0m         \u001b[0;32mtry\u001b[0m\u001b[0;34m:\u001b[0m    \u001b[0;31m# restore state no matter what (e.g., KeyboardInterrupt)\u001b[0m\u001b[0;34m\u001b[0m\u001b[0;34m\u001b[0m\u001b[0m\n\u001b[1;32m    294\u001b[0m             \u001b[0;32mif\u001b[0m \u001b[0mtimeout\u001b[0m \u001b[0;32mis\u001b[0m \u001b[0;32mNone\u001b[0m\u001b[0;34m:\u001b[0m\u001b[0;34m\u001b[0m\u001b[0;34m\u001b[0m\u001b[0m\n\u001b[0;32m--> 295\u001b[0;31m                 \u001b[0mwaiter\u001b[0m\u001b[0;34m.\u001b[0m\u001b[0macquire\u001b[0m\u001b[0;34m(\u001b[0m\u001b[0;34m)\u001b[0m\u001b[0;34m\u001b[0m\u001b[0;34m\u001b[0m\u001b[0m\n\u001b[0m\u001b[1;32m    296\u001b[0m                 \u001b[0mgotit\u001b[0m \u001b[0;34m=\u001b[0m \u001b[0;32mTrue\u001b[0m\u001b[0;34m\u001b[0m\u001b[0;34m\u001b[0m\u001b[0m\n\u001b[1;32m    297\u001b[0m             \u001b[0;32melse\u001b[0m\u001b[0;34m:\u001b[0m\u001b[0;34m\u001b[0m\u001b[0;34m\u001b[0m\u001b[0m\n",
      "\u001b[0;31mKeyboardInterrupt\u001b[0m: "
     ]
    }
   ],
   "source": [
    "q.get()"
   ]
  },
  {
   "cell_type": "code",
   "execution_count": 12,
   "metadata": {},
   "outputs": [],
   "source": [
    "q.put(1)"
   ]
  },
  {
   "cell_type": "code",
   "execution_count": 16,
   "metadata": {},
   "outputs": [
    {
     "data": {
      "text/plain": [
       "1"
      ]
     },
     "execution_count": 16,
     "metadata": {},
     "output_type": "execute_result"
    }
   ],
   "source": [
    "q.get()"
   ]
  },
  {
   "cell_type": "code",
   "execution_count": 17,
   "metadata": {},
   "outputs": [
    {
     "data": {
      "text/plain": [
       "True"
      ]
     },
     "execution_count": 17,
     "metadata": {},
     "output_type": "execute_result"
    }
   ],
   "source": [
    "q.empty()"
   ]
  },
  {
   "cell_type": "code",
   "execution_count": 46,
   "metadata": {},
   "outputs": [
    {
     "name": "stderr",
     "output_type": "stream",
     "text": [
      "/Users/hirokimoriguchi/.pyenv/versions/miniconda3-latest/lib/python3.6/site-packages/ipykernel_launcher.py:1: FutureWarning: Using a non-tuple sequence for multidimensional indexing is deprecated; use `arr[tuple(seq)]` instead of `arr[seq]`. In the future this will be interpreted as an array index, `arr[np.array(seq)]`, which will result either in an error or a different result.\n",
      "  \"\"\"Entry point for launching an IPython kernel.\n"
     ]
    },
    {
     "data": {
      "text/plain": [
       "array([255., 255.])"
      ]
     },
     "execution_count": 46,
     "metadata": {},
     "output_type": "execute_result"
    }
   ],
   "source": [
    "p_img[res[1]]"
   ]
  },
  {
   "cell_type": "code",
   "execution_count": 47,
   "metadata": {},
   "outputs": [
    {
     "data": {
      "text/plain": [
       "[(0, 25), (0, 26)]"
      ]
     },
     "execution_count": 47,
     "metadata": {},
     "output_type": "execute_result"
    }
   ],
   "source": [
    "res[1]"
   ]
  },
  {
   "cell_type": "code",
   "execution_count": 52,
   "metadata": {},
   "outputs": [
    {
     "data": {
      "text/plain": [
       "array([[255.,   0.,   0., 255.],\n",
       "       [255., 255., 255., 255.]])"
      ]
     },
     "execution_count": 52,
     "metadata": {},
     "output_type": "execute_result"
    }
   ],
   "source": [
    "p_img[0:2,24:28]"
   ]
  },
  {
   "cell_type": "code",
   "execution_count": 54,
   "metadata": {},
   "outputs": [
    {
     "data": {
      "text/plain": [
       "(2, 469)"
      ]
     },
     "execution_count": 54,
     "metadata": {},
     "output_type": "execute_result"
    }
   ],
   "source": [
    "p_img[(0,)].shape"
   ]
  },
  {
   "cell_type": "code",
   "execution_count": 68,
   "metadata": {},
   "outputs": [],
   "source": [
    "arg_0 = np.argwhere(n_img==0)"
   ]
  },
  {
   "cell_type": "code",
   "execution_count": null,
   "metadata": {},
   "outputs": [],
   "source": [
    "arg"
   ]
  },
  {
   "cell_type": "code",
   "execution_count": 64,
   "metadata": {},
   "outputs": [
    {
     "data": {
      "text/plain": [
       "68771"
      ]
     },
     "execution_count": 64,
     "metadata": {},
     "output_type": "execute_result"
    }
   ],
   "source": [
    "np.sum(n_img==0)"
   ]
  },
  {
   "cell_type": "code",
   "execution_count": 65,
   "metadata": {},
   "outputs": [
    {
     "data": {
      "text/plain": [
       "279993"
      ]
     },
     "execution_count": 65,
     "metadata": {},
     "output_type": "execute_result"
    }
   ],
   "source": [
    "n_img.shape[0] * n_img.shape[1]"
   ]
  },
  {
   "cell_type": "code",
   "execution_count": 66,
   "metadata": {},
   "outputs": [
    {
     "data": {
      "text/plain": [
       "array([[False, False, False, ..., False, False, False],\n",
       "       [False, False, False, ..., False, False, False],\n",
       "       [False, False, False, ..., False, False, False],\n",
       "       ...,\n",
       "       [False, False, False, ..., False, False, False],\n",
       "       [False, False, False, ..., False, False, False],\n",
       "       [False, False, False, ..., False, False, False]])"
      ]
     },
     "execution_count": 66,
     "metadata": {},
     "output_type": "execute_result"
    }
   ],
   "source": [
    "n_img==0"
   ]
  },
  {
   "cell_type": "code",
   "execution_count": 70,
   "metadata": {},
   "outputs": [
    {
     "data": {
      "text/plain": [
       "(68771, 2, 469)"
      ]
     },
     "execution_count": 70,
     "metadata": {},
     "output_type": "execute_result"
    }
   ],
   "source": [
    "n_img[arg_0].shape"
   ]
  },
  {
   "cell_type": "code",
   "execution_count": 72,
   "metadata": {},
   "outputs": [
    {
     "data": {
      "text/plain": [
       "(597, 469)"
      ]
     },
     "execution_count": 72,
     "metadata": {},
     "output_type": "execute_result"
    }
   ],
   "source": [
    "n_img.shape"
   ]
  },
  {
   "cell_type": "code",
   "execution_count": 73,
   "metadata": {},
   "outputs": [
    {
     "data": {
      "text/plain": [
       "array([[255, 255, 255, ..., 255, 255, 255],\n",
       "       [255, 255, 255, ..., 255, 255, 255],\n",
       "       [255, 255, 255, ..., 255, 255, 255],\n",
       "       ...,\n",
       "       [255, 255, 255, ..., 255, 255, 255],\n",
       "       [255, 255, 255, ..., 255, 255, 255],\n",
       "       [255, 255, 255, ..., 255, 255, 255]], dtype=uint8)"
      ]
     },
     "execution_count": 73,
     "metadata": {},
     "output_type": "execute_result"
    }
   ],
   "source": [
    "n_img"
   ]
  },
  {
   "cell_type": "code",
   "execution_count": 2,
   "metadata": {},
   "outputs": [],
   "source": [
    "import numpy as np"
   ]
  },
  {
   "cell_type": "code",
   "execution_count": 5,
   "metadata": {},
   "outputs": [],
   "source": [
    "arr = np.array([[1,4,2],[1,0,1]])"
   ]
  },
  {
   "cell_type": "code",
   "execution_count": 7,
   "metadata": {},
   "outputs": [
    {
     "data": {
      "text/plain": [
       "array([[0, 0],\n",
       "       [1, 0],\n",
       "       [1, 2]])"
      ]
     },
     "execution_count": 7,
     "metadata": {},
     "output_type": "execute_result"
    }
   ],
   "source": [
    "np.argwhere(arr==1)"
   ]
  },
  {
   "cell_type": "code",
   "execution_count": 11,
   "metadata": {},
   "outputs": [
    {
     "data": {
      "text/plain": [
       "0"
      ]
     },
     "execution_count": 11,
     "metadata": {},
     "output_type": "execute_result"
    }
   ],
   "source": [
    "arr[1,1]"
   ]
  },
  {
   "cell_type": "code",
   "execution_count": 16,
   "metadata": {},
   "outputs": [],
   "source": [
    "arr = np.arange(20).reshape(5,4)"
   ]
  },
  {
   "cell_type": "code",
   "execution_count": 17,
   "metadata": {},
   "outputs": [
    {
     "data": {
      "text/plain": [
       "array([[ 9, 10],\n",
       "       [13, 14],\n",
       "       [17, 18]])"
      ]
     },
     "execution_count": 17,
     "metadata": {},
     "output_type": "execute_result"
    }
   ],
   "source": [
    "arr[2:5,1:3]"
   ]
  },
  {
   "cell_type": "code",
   "execution_count": 18,
   "metadata": {},
   "outputs": [
    {
     "data": {
      "text/plain": [
       "array([[ 0,  1,  2,  3],\n",
       "       [ 4,  5,  6,  7],\n",
       "       [ 8,  9, 10, 11],\n",
       "       [12, 13, 14, 15],\n",
       "       [16, 17, 18, 19]])"
      ]
     },
     "execution_count": 18,
     "metadata": {},
     "output_type": "execute_result"
    }
   ],
   "source": [
    "arr"
   ]
  },
  {
   "cell_type": "code",
   "execution_count": null,
   "metadata": {},
   "outputs": [],
   "source": []
  }
 ],
 "metadata": {
  "kernelspec": {
   "display_name": "Python 3",
   "language": "python",
   "name": "python3"
  },
  "language_info": {
   "codemirror_mode": {
    "name": "ipython",
    "version": 3
   },
   "file_extension": ".py",
   "mimetype": "text/x-python",
   "name": "python",
   "nbconvert_exporter": "python",
   "pygments_lexer": "ipython3",
   "version": "3.6.8"
  }
 },
 "nbformat": 4,
 "nbformat_minor": 2
}
