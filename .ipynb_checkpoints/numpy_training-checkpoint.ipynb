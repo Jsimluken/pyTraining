{
 "cells": [
  {
   "cell_type": "code",
   "execution_count": 7,
   "metadata": {},
   "outputs": [],
   "source": [
    "import numpy as np\n",
    "from pprint import pprint"
   ]
  },
  {
   "cell_type": "markdown",
   "metadata": {},
   "source": [
    "<H1>1. Make a numpy array</H1>"
   ]
  },
  {
   "cell_type": "code",
   "execution_count": 8,
   "metadata": {},
   "outputs": [
    {
     "name": "stdout",
     "output_type": "stream",
     "text": [
      "array([0., 0., 0.])\n",
      "(3,)\n"
     ]
    }
   ],
   "source": [
    "a = np.zeros(3)\n",
    "pprint(a)\n",
    "pprint(a.shape)"
   ]
  },
  {
   "cell_type": "code",
   "execution_count": 9,
   "metadata": {},
   "outputs": [
    {
     "name": "stdout",
     "output_type": "stream",
     "text": [
      "array([[0., 0., 0.]])\n",
      "(1, 3)\n",
      "array([[1., 1., 1.]])\n"
     ]
    }
   ],
   "source": [
    "a = np.zeros((1,3))\n",
    "pprint(a)\n",
    "pprint(a.shape)\n",
    "a[0] = 1\n",
    "pprint(a) #Oops!!"
   ]
  },
  {
   "cell_type": "code",
   "execution_count": 10,
   "metadata": {},
   "outputs": [
    {
     "name": "stdout",
     "output_type": "stream",
     "text": [
      "array([[0., 0., 0.]])\n",
      "(1, 3)\n",
      "array([[1., 0., 0.]])\n"
     ]
    }
   ],
   "source": [
    "a = np.zeros((1,3))\n",
    "pprint(a)\n",
    "pprint(a.shape)\n",
    "a[:,0] = 1\n",
    "pprint(a) #Ok!!"
   ]
  },
  {
   "cell_type": "code",
   "execution_count": 11,
   "metadata": {},
   "outputs": [
    {
     "name": "stdout",
     "output_type": "stream",
     "text": [
      "array([[1, 2, 3],\n",
      "       [4, 5, 6]])\n"
     ]
    }
   ],
   "source": [
    "a = np.array([[1,2,3],[4,5,6]])\n",
    "pprint(a)"
   ]
  },
  {
   "cell_type": "markdown",
   "metadata": {},
   "source": [
    "<h1>2. Transform a numpy array!!</h1>"
   ]
  },
  {
   "cell_type": "code",
   "execution_count": 29,
   "metadata": {},
   "outputs": [
    {
     "name": "stdout",
     "output_type": "stream",
     "text": [
      "(100,)\n",
      "(10, 10)\n"
     ]
    }
   ],
   "source": [
    "a = np.arange(100)\n",
    "pprint(a.shape)\n",
    "a = a.reshape(10,10)\n",
    "pprint(a.shape)"
   ]
  },
  {
   "cell_type": "code",
   "execution_count": 13,
   "metadata": {},
   "outputs": [],
   "source": [
    "a = np.arange(10).reshape(1,10)\n",
    "b = np.arange(10).reshape(1,10) +10"
   ]
  },
  {
   "cell_type": "code",
   "execution_count": 14,
   "metadata": {},
   "outputs": [
    {
     "name": "stdout",
     "output_type": "stream",
     "text": [
      "array([[ 0,  1,  2,  3,  4,  5,  6,  7,  8,  9],\n",
      "       [10, 11, 12, 13, 14, 15, 16, 17, 18, 19]])\n",
      "(2, 10)\n"
     ]
    }
   ],
   "source": [
    "c = np.concatenate((a,b),axis =0)\n",
    "pprint(c)\n",
    "pprint(c.shape)"
   ]
  },
  {
   "cell_type": "code",
   "execution_count": 15,
   "metadata": {},
   "outputs": [
    {
     "name": "stdout",
     "output_type": "stream",
     "text": [
      "array([[ 0,  1,  2,  3,  4,  5,  6,  7,  8,  9, 10, 11, 12, 13, 14, 15,\n",
      "        16, 17, 18, 19]])\n",
      "(1, 20)\n"
     ]
    }
   ],
   "source": [
    "c = np.concatenate((a,b),axis =1)\n",
    "pprint(c)\n",
    "pprint(c.shape)"
   ]
  },
  {
   "cell_type": "markdown",
   "metadata": {},
   "source": [
    "<h1>3. Search a numpy array</h1>"
   ]
  },
  {
   "cell_type": "code",
   "execution_count": 17,
   "metadata": {},
   "outputs": [
    {
     "name": "stdout",
     "output_type": "stream",
     "text": [
      "4 6\n",
      "True\n"
     ]
    }
   ],
   "source": [
    "a = np.array([1,2,3,4,6,3,2,3,6,4,5])\n",
    "max_idx = a.argmax()\n",
    "print(max_idx,a[max_idx])\n",
    "pprint(max(a) == a[max_idx])"
   ]
  },
  {
   "cell_type": "code",
   "execution_count": 24,
   "metadata": {},
   "outputs": [
    {
     "name": "stdout",
     "output_type": "stream",
     "text": [
      "5 nan\n",
      "False\n"
     ]
    }
   ],
   "source": [
    "# if NaN in array.....\n",
    "a = np.array([1,2,3,4,6,np.nan,2,3,6,4,5])\n",
    "max_idx = a.argmax()\n",
    "print(max_idx,a[max_idx])\n",
    "pprint(max(a) == a[max_idx])"
   ]
  },
  {
   "cell_type": "code",
   "execution_count": 26,
   "metadata": {},
   "outputs": [
    {
     "name": "stdout",
     "output_type": "stream",
     "text": [
      "4 6.0\n",
      "True\n"
     ]
    }
   ],
   "source": [
    "# if NaN in array.....\n",
    "a = np.array([1,2,3,4,6,np.nan,2,3,6,4,5])\n",
    "max_idx = np.nanargmax(a)\n",
    "print(max_idx,a[max_idx])\n",
    "pprint(max(a) == a[max_idx])"
   ]
  },
  {
   "cell_type": "code",
   "execution_count": 58,
   "metadata": {},
   "outputs": [],
   "source": [
    "#To do multi dimention argmax!!"
   ]
  },
  {
   "cell_type": "code",
   "execution_count": 22,
   "metadata": {},
   "outputs": [
    {
     "name": "stdout",
     "output_type": "stream",
     "text": [
      "array([[0, 0],\n",
      "       [2, 0],\n",
      "       [3, 0],\n",
      "       [4, 0],\n",
      "       [7, 0]], dtype=int64)\n",
      "--------------------\n",
      "array([[[5],\n",
      "        [5]],\n",
      "\n",
      "       [[4],\n",
      "        [5]],\n",
      "\n",
      "       [[5],\n",
      "        [5]],\n",
      "\n",
      "       [[6],\n",
      "        [5]],\n",
      "\n",
      "       [[4],\n",
      "        [5]]])\n",
      "(5, 2, 1)\n"
     ]
    }
   ],
   "source": [
    "a = np.array([5,2,4,5,6,1,3,4,2]).reshape(-1,1)\n",
    "args = np.argwhere(a>3)\n",
    "pprint(args)\n",
    "print(\"-\"*20)\n",
    "pprint(a[args]) # WTF!!?\n",
    "pprint(a[args].shape)"
   ]
  },
  {
   "cell_type": "markdown",
   "metadata": {},
   "source": [
    "<h1>4. Misc</h1>"
   ]
  },
  {
   "cell_type": "code",
   "execution_count": 81,
   "metadata": {},
   "outputs": [
    {
     "name": "stdout",
     "output_type": "stream",
     "text": [
      "-0.00734857046817 0.970390780035\n"
     ]
    }
   ],
   "source": [
    "a = np.random.randn(1000)\n",
    "print(np.mean(a),np.std(a))"
   ]
  },
  {
   "cell_type": "code",
   "execution_count": 80,
   "metadata": {},
   "outputs": [
    {
     "data": {
      "text/plain": [
       "array([ 1.59204628,  2.76613806,  0.79161954, -1.42777767,  0.93020051,\n",
       "        0.68856377, -1.03682258,  1.21675596,  0.89839728, -0.10682395])"
      ]
     },
     "execution_count": 80,
     "metadata": {},
     "output_type": "execute_result"
    }
   ],
   "source": [
    "np.random.randn(10)"
   ]
  },
  {
   "cell_type": "code",
   "execution_count": null,
   "metadata": {},
   "outputs": [],
   "source": [
    "\"\"\"\n",
    "To do\n",
    "infinite\n",
    "sum\n",
    "sort\n",
    "\n",
    "\"\"\""
   ]
  }
 ],
 "metadata": {
  "kernelspec": {
   "display_name": "Python 3",
   "language": "python",
   "name": "python3"
  },
  "language_info": {
   "codemirror_mode": {
    "name": "ipython",
    "version": 3
   },
   "file_extension": ".py",
   "mimetype": "text/x-python",
   "name": "python",
   "nbconvert_exporter": "python",
   "pygments_lexer": "ipython3",
   "version": "3.5.2"
  }
 },
 "nbformat": 4,
 "nbformat_minor": 2
}
