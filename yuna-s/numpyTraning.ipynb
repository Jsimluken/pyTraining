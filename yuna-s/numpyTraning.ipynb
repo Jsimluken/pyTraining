{
 "cells": [
  {
   "cell_type": "code",
   "execution_count": 1,
   "metadata": {},
   "outputs": [],
   "source": [
    "import numpy as np\n",
    "from pprint import pprint"
   ]
  },
  {
   "cell_type": "code",
   "execution_count": 6,
   "metadata": {},
   "outputs": [
    {
     "name": "stdout",
     "output_type": "stream",
     "text": [
      "array([ 0.,  0.,  0.])\n",
      "(3,)\n",
      "array([ 1.,  0.,  0.])\n"
     ]
    }
   ],
   "source": [
    "a = np.zeros(3)\n",
    "pprint(a)\n",
    "pprint(a.shape)\n",
    "a[0]=1\n",
    "pprint(a)"
   ]
  },
  {
   "cell_type": "code",
   "execution_count": 14,
   "metadata": {},
   "outputs": [
    {
     "name": "stdout",
     "output_type": "stream",
     "text": [
      "array([[ 0.,  0.,  0.]])\n",
      "(1, 3)\n",
      "array([[ 0.,  1.,  0.]])\n"
     ]
    }
   ],
   "source": [
    "a = np.zeros((1,3))\n",
    "pprint(a)\n",
    "pprint(a.shape)\n",
    "a[:,1] = 1\n",
    "pprint(a)"
   ]
  },
  {
   "cell_type": "code",
   "execution_count": 15,
   "metadata": {},
   "outputs": [
    {
     "name": "stdout",
     "output_type": "stream",
     "text": [
      "array([[ 1.,  1.,  1.,  1.,  1.,  1.],\n",
      "       [ 1.,  1.,  1.,  1.,  1.,  1.],\n",
      "       [ 1.,  1.,  1.,  1.,  1.,  1.],\n",
      "       [ 1.,  1.,  1.,  1.,  1.,  1.],\n",
      "       [ 1.,  1.,  1.,  1.,  1.,  1.],\n",
      "       [ 1.,  1.,  1.,  1.,  1.,  1.]])\n"
     ]
    }
   ],
   "source": [
    "a = np.ones((6,6))\n",
    "pprint(a)"
   ]
  },
  {
   "cell_type": "code",
   "execution_count": 16,
   "metadata": {},
   "outputs": [
    {
     "name": "stdout",
     "output_type": "stream",
     "text": [
      "array([[ 1.,  1.,  1.,  1.,  1.,  1.],\n",
      "       [ 1.,  0.,  0.,  1.,  1.,  1.],\n",
      "       [ 1.,  0.,  0.,  1.,  1.,  1.],\n",
      "       [ 1.,  1.,  1.,  1.,  1.,  1.],\n",
      "       [ 1.,  1.,  1.,  1.,  1.,  1.],\n",
      "       [ 1.,  1.,  1.,  1.,  1.,  1.]])\n"
     ]
    }
   ],
   "source": [
    "a = np.ones((6,6))\n",
    "a[1:3, 1:3] = 0\n",
    "pprint(a)"
   ]
  },
  {
   "cell_type": "code",
   "execution_count": 17,
   "metadata": {},
   "outputs": [
    {
     "name": "stdout",
     "output_type": "stream",
     "text": [
      "array([[1, 2, 3],\n",
      "       [1, 2, 4]])\n"
     ]
    }
   ],
   "source": [
    "a = np.array([[1,2,3],[1,2,4]])\n",
    "pprint(a)"
   ]
  },
  {
   "cell_type": "code",
   "execution_count": null,
   "metadata": {},
   "outputs": [],
   "source": [
    "#今日はここまで！ねむい"
   ]
  },
  {
   "cell_type": "code",
   "execution_count": 6,
   "metadata": {},
   "outputs": [],
   "source": [
    "import numpy as np\n",
    "from pprint import pprint"
   ]
  },
  {
   "cell_type": "code",
   "execution_count": 8,
   "metadata": {},
   "outputs": [
    {
     "name": "stdout",
     "output_type": "stream",
     "text": [
      "(100,)\n",
      "array([[ 0,  1,  2,  3,  4,  5,  6,  7,  8,  9, 10, 11, 12, 13, 14, 15, 16,\n",
      "        17, 18, 19, 20, 21, 22, 23, 24],\n",
      "       [25, 26, 27, 28, 29, 30, 31, 32, 33, 34, 35, 36, 37, 38, 39, 40, 41,\n",
      "        42, 43, 44, 45, 46, 47, 48, 49],\n",
      "       [50, 51, 52, 53, 54, 55, 56, 57, 58, 59, 60, 61, 62, 63, 64, 65, 66,\n",
      "        67, 68, 69, 70, 71, 72, 73, 74],\n",
      "       [75, 76, 77, 78, 79, 80, 81, 82, 83, 84, 85, 86, 87, 88, 89, 90, 91,\n",
      "        92, 93, 94, 95, 96, 97, 98, 99]])\n"
     ]
    }
   ],
   "source": [
    "a = np.arange(100)\n",
    "pprint(a.shape)\n",
    "a = a.reshape(4,25)\n",
    "pprint(a)"
   ]
  },
  {
   "cell_type": "code",
   "execution_count": 15,
   "metadata": {},
   "outputs": [],
   "source": [
    "a = np.arange(10).reshape(5,2)\n",
    "b = np.arange(10).reshape(2,5) + 10"
   ]
  },
  {
   "cell_type": "code",
   "execution_count": 16,
   "metadata": {},
   "outputs": [
    {
     "name": "stdout",
     "output_type": "stream",
     "text": [
      "array([[0, 1],\n",
      "       [2, 3],\n",
      "       [4, 5],\n",
      "       [6, 7],\n",
      "       [8, 9]])\n",
      "array([[10, 11, 12, 13, 14],\n",
      "       [15, 16, 17, 18, 19]])\n"
     ]
    }
   ],
   "source": [
    "pprint(a)\n",
    "pprint(b)"
   ]
  },
  {
   "cell_type": "code",
   "execution_count": 20,
   "metadata": {},
   "outputs": [
    {
     "name": "stdout",
     "output_type": "stream",
     "text": [
      "array([[ 0,  1, 10, 11, 12, 13, 14],\n",
      "       [ 2,  3, 15, 16, 17, 18, 19]])\n",
      "(2, 7)\n"
     ]
    }
   ],
   "source": [
    "c = np.concatenate((a[:2],b), axis=1)\n",
    "pprint(c)\n",
    "pprint(c.shape)"
   ]
  },
  {
   "cell_type": "code",
   "execution_count": null,
   "metadata": {},
   "outputs": [],
   "source": [
    "#今日もここまで！明日もがんばるー"
   ]
  }
 ],
 "metadata": {
  "kernelspec": {
   "display_name": "Python 3",
   "language": "python",
   "name": "python3"
  },
  "language_info": {
   "codemirror_mode": {
    "name": "ipython",
    "version": 3
   },
   "file_extension": ".py",
   "mimetype": "text/x-python",
   "name": "python",
   "nbconvert_exporter": "python",
   "pygments_lexer": "ipython3",
   "version": "3.5.2"
  }
 },
 "nbformat": 4,
 "nbformat_minor": 2
}
