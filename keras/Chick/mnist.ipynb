{
 "cells": [
  {
   "cell_type": "code",
   "execution_count": 4,
   "metadata": {},
   "outputs": [
    {
     "name": "stdout",
     "output_type": "stream",
     "text": [
      "Epoch 1/3\n",
      " - 2s - loss: 0.3436 - acc: 0.9034 - mean_absolute_error: 0.0357\n",
      "Epoch 2/3\n",
      " - 2s - loss: 0.1597 - acc: 0.9522 - mean_absolute_error: 0.0160\n",
      "Epoch 3/3\n",
      " - 2s - loss: 0.1165 - acc: 0.9653 - mean_absolute_error: 0.0115\n",
      "10000/10000 [==============================] - 0s 37us/step\n",
      "0.111618208474\n",
      "0.9657\n"
     ]
    }
   ],
   "source": [
    "# https://qiita.com/wataoka/items/5c6766d3e1c674d61425\n",
    "#sequencial\n",
    "\n",
    "from keras.datasets import mnist\n",
    "(x_train, y_train), (x_test, y_test) = mnist.load_data()\n",
    "from keras.utils.np_utils import to_categorical\n",
    "\n",
    "#画像を一次元化\n",
    "\n",
    "x_train = x_train.reshape(60000, 784)\n",
    "x_test = x_test.reshape(10000, 784)\n",
    "\n",
    "#正規化\n",
    "x_train = x_train.astype('float32')/255\n",
    "x_test = x_test.astype('float32')/255\n",
    "\n",
    "#正解ラベルをone-hot-encoding\n",
    "y_train = to_categorical(y_train, 10)\n",
    "y_test = to_categorical(y_test, 10)\n",
    "\n",
    "# make sequential model\n",
    "from keras.models import Sequential\n",
    "from keras.layers import Dense\n",
    "\n",
    "model = Sequential()\n",
    "model.add(Dense(64, activation='relu', input_dim=784))\n",
    "model.add(Dense(64, activation='relu'))\n",
    "model.add(Dense(10, activation='softmax'))\n",
    "\n",
    "#最適化、損失関数（学習で最小化したいメトリクス）、評価メトリックス\n",
    "model.compile(optimizer='rmsprop',\n",
    "              loss='categorical_crossentropy',\n",
    "              metrics=['accuracy', 'mae'])\n",
    "\n",
    "model.fit(x_train, y_train,\n",
    "         batch_size=100,\n",
    "         epochs=3,\n",
    "         verbose=2)\n",
    "\n",
    "score = model.evaluate(x_test, y_test)\n",
    "print(score[0])\n",
    "print(score[1])"
   ]
  },
  {
   "cell_type": "code",
   "execution_count": 7,
   "metadata": {},
   "outputs": [],
   "source": [
    "from keras.utils.np_utils import to_categorical\n",
    "from keras.datasets import mnist\n",
    "from keras.models import Model\n",
    "from keras.layers import Input, Dense, merge"
   ]
  },
  {
   "cell_type": "code",
   "execution_count": 8,
   "metadata": {},
   "outputs": [
    {
     "name": "stdout",
     "output_type": "stream",
     "text": [
      "WARNING:tensorflow:From /usr/local/lib/python3.5/dist-packages/tensorflow/python/framework/op_def_library.py:263: colocate_with (from tensorflow.python.framework.ops) is deprecated and will be removed in a future version.\n",
      "Instructions for updating:\n",
      "Colocations handled automatically by placer.\n"
     ]
    }
   ],
   "source": [
    "#funcional\n",
    "\n",
    "(x_train, y_train), (x_test, y_test) = mnist.load_data()\n",
    "\n",
    "#画像を一元化\n",
    "x_train = x_train.reshape(60000, 784)\n",
    "x_test = x_test.reshape(10000, 784)\n",
    "\n",
    "#正規化\n",
    "x_train = x_train.astype('float32')/255\n",
    "x_test = x_test.astype('float32')/255\n",
    "\n",
    "#one-hot\n",
    "y_train = to_categorical(y_train, 10)\n",
    "y_test = to_categorical(y_test,10)\n",
    "\n",
    "#make functional model\n",
    "\n",
    "input_ = Input(shape=(784,))\n",
    "layer1 = Dense(64, activation='relu')(input_)\n",
    "layer1 = Dense(64, activation='relu')(layer1)\n",
    "layer1 = Dense(10, activation='softmax')(layer1)\n",
    "\n",
    "model = Model(inputs = input_, outputs=layer1)"
   ]
  },
  {
   "cell_type": "code",
   "execution_count": 11,
   "metadata": {},
   "outputs": [
    {
     "name": "stdout",
     "output_type": "stream",
     "text": [
      "WARNING:tensorflow:From /usr/local/lib/python3.5/dist-packages/tensorflow/python/ops/math_ops.py:3066: to_int32 (from tensorflow.python.ops.math_ops) is deprecated and will be removed in a future version.\n",
      "Instructions for updating:\n",
      "Use tf.cast instead.\n",
      "Epoch 1/12\n",
      "60000/60000 [==============================] - 17s 278us/step - loss: 0.2493 - acc: 0.9296 - mean_absolute_error: 0.0206\n",
      "Epoch 2/12\n",
      "60000/60000 [==============================] - 16s 273us/step - loss: 0.1583 - acc: 0.9607 - mean_absolute_error: 0.0098\n",
      "Epoch 3/12\n",
      "60000/60000 [==============================] - 16s 270us/step - loss: 0.1471 - acc: 0.9666 - mean_absolute_error: 0.0079\n",
      "Epoch 4/12\n",
      "60000/60000 [==============================] - 16s 269us/step - loss: 0.1368 - acc: 0.9712 - mean_absolute_error: 0.0068\n",
      "Epoch 5/12\n",
      "60000/60000 [==============================] - 17s 276us/step - loss: 0.1369 - acc: 0.9729 - mean_absolute_error: 0.0061\n",
      "Epoch 6/12\n",
      "60000/60000 [==============================] - 17s 278us/step - loss: 0.1375 - acc: 0.9738 - mean_absolute_error: 0.0058\n",
      "Epoch 7/12\n",
      "60000/60000 [==============================] - 17s 279us/step - loss: 0.1373 - acc: 0.9758 - mean_absolute_error: 0.0054\n",
      "Epoch 8/12\n",
      "60000/60000 [==============================] - 17s 280us/step - loss: 0.1372 - acc: 0.9768 - mean_absolute_error: 0.0051\n",
      "Epoch 9/12\n",
      "60000/60000 [==============================] - 17s 286us/step - loss: 0.1315 - acc: 0.9781 - mean_absolute_error: 0.0047\n",
      "Epoch 10/12\n",
      "60000/60000 [==============================] - 17s 284us/step - loss: 0.1281 - acc: 0.9802 - mean_absolute_error: 0.0044\n",
      "Epoch 11/12\n",
      "60000/60000 [==============================] - 17s 282us/step - loss: 0.1311 - acc: 0.9805 - mean_absolute_error: 0.0042\n",
      "Epoch 12/12\n",
      "60000/60000 [==============================] - 17s 284us/step - loss: 0.1261 - acc: 0.9813 - mean_absolute_error: 0.0040\n"
     ]
    },
    {
     "data": {
      "text/plain": [
       "<keras.callbacks.History at 0x7f0fedf63860>"
      ]
     },
     "execution_count": 11,
     "metadata": {},
     "output_type": "execute_result"
    }
   ],
   "source": [
    "model.compile('rmsprop',\n",
    "              'categorical_crossentropy',\n",
    "             ['accuracy', 'mae'])\n",
    "\n",
    "model.fit(x_train, y_train, 100, 12)"
   ]
  },
  {
   "cell_type": "code",
   "execution_count": 12,
   "metadata": {},
   "outputs": [
    {
     "name": "stdout",
     "output_type": "stream",
     "text": [
      "10000/10000 [==============================] - 0s 33us/step\n"
     ]
    },
    {
     "data": {
      "text/plain": [
       "[0.24401600380304145, 0.97009999999999996, 0.0063132683433211479]"
      ]
     },
     "execution_count": 12,
     "metadata": {},
     "output_type": "execute_result"
    }
   ],
   "source": [
    "model.evaluate(x_test, y_test)"
   ]
  },
  {
   "cell_type": "code",
   "execution_count": null,
   "metadata": {},
   "outputs": [],
   "source": []
  }
 ],
 "metadata": {
  "kernelspec": {
   "display_name": "Python 3",
   "language": "python",
   "name": "python3"
  },
  "language_info": {
   "codemirror_mode": {
    "name": "ipython",
    "version": 3
   },
   "file_extension": ".py",
   "mimetype": "text/x-python",
   "name": "python",
   "nbconvert_exporter": "python",
   "pygments_lexer": "ipython3",
   "version": "3.5.2"
  }
 },
 "nbformat": 4,
 "nbformat_minor": 2
}
