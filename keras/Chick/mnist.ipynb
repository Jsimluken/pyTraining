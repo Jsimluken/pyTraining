{
 "cells": [
  {
   "cell_type": "code",
   "execution_count": 4,
   "metadata": {},
   "outputs": [
    {
     "name": "stdout",
     "output_type": "stream",
     "text": [
      "Epoch 1/3\n",
      " - 2s - loss: 0.3436 - acc: 0.9034 - mean_absolute_error: 0.0357\n",
      "Epoch 2/3\n",
      " - 2s - loss: 0.1597 - acc: 0.9522 - mean_absolute_error: 0.0160\n",
      "Epoch 3/3\n",
      " - 2s - loss: 0.1165 - acc: 0.9653 - mean_absolute_error: 0.0115\n",
      "10000/10000 [==============================] - 0s 37us/step\n",
      "0.111618208474\n",
      "0.9657\n"
     ]
    }
   ],
   "source": [
    "# https://qiita.com/wataoka/items/5c6766d3e1c674d61425\n",
    "\n",
    "from keras.datasets import mnist\n",
    "(x_train, y_train), (x_test, y_test) = mnist.load_data()\n",
    "from keras.utils.np_utils import to_categorical\n",
    "\n",
    "#画像を一次元化\n",
    "\n",
    "x_train = x_train.reshape(60000, 784)\n",
    "x_test = x_test.reshape(10000, 784)\n",
    "\n",
    "#正規化\n",
    "x_train = x_train.astype('float32')/255\n",
    "x_test = x_test.astype('float32')/255\n",
    "\n",
    "#正解ラベルをone-hot-encoding\n",
    "y_train = to_categorical(y_train, 10)\n",
    "y_test = to_categorical(y_test, 10)\n",
    "\n",
    "# make sequential model\n",
    "from keras.models import Sequential\n",
    "from keras.layers import Dense\n",
    "\n",
    "model = Sequential()\n",
    "model.add(Dense(64, activation='relu', input_dim=784))\n",
    "model.add(Dense(64, activation='relu'))\n",
    "model.add(Dense(10, activation='softmax'))\n",
    "\n",
    "#最適化、損失関数（学習で最小化したいメトリクス）、評価メトリックス\n",
    "model.compile(optimizer='rmsprop',\n",
    "              loss='categorical_crossentropy',\n",
    "              metrics=['accuracy', 'mae'])\n",
    "\n",
    "model.fit(x_train, y_train,\n",
    "         batch_size=100,\n",
    "         epochs=3,\n",
    "         verbose=2)\n",
    "\n",
    "score = model.evaluate(x_test, y_test)\n",
    "print(score[0])\n",
    "print(score[1])"
   ]
  },
  {
   "cell_type": "code",
   "execution_count": null,
   "metadata": {},
   "outputs": [],
   "source": []
  }
 ],
 "metadata": {
  "kernelspec": {
   "display_name": "Python 3",
   "language": "python",
   "name": "python3"
  },
  "language_info": {
   "codemirror_mode": {
    "name": "ipython",
    "version": 3
   },
   "file_extension": ".py",
   "mimetype": "text/x-python",
   "name": "python",
   "nbconvert_exporter": "python",
   "pygments_lexer": "ipython3",
   "version": "3.5.2"
  }
 },
 "nbformat": 4,
 "nbformat_minor": 2
}
