{
 "cells": [
  {
   "cell_type": "code",
   "execution_count": 1,
   "metadata": {},
   "outputs": [],
   "source": [
    "import numpy as np"
   ]
  },
  {
   "cell_type": "markdown",
   "metadata": {},
   "source": [
    "<H1>1. Make a numpy array</H1>"
   ]
  },
  {
   "cell_type": "code",
   "execution_count": 6,
   "metadata": {},
   "outputs": [
    {
     "name": "stdout",
     "output_type": "stream",
     "text": [
      "[ 0.  0.  0.]\n",
      "(3,)\n"
     ]
    }
   ],
   "source": [
    "a = np.zeros(3)\n",
    "print(a)\n",
    "print(a.shape)"
   ]
  },
  {
   "cell_type": "code",
   "execution_count": 21,
   "metadata": {},
   "outputs": [
    {
     "name": "stdout",
     "output_type": "stream",
     "text": [
      "[[ 0.  0.  0.]]\n",
      "(1, 3)\n",
      "[[ 1.  1.  1.]]\n"
     ]
    }
   ],
   "source": [
    "a = np.zeros((1,3))\n",
    "print(a)\n",
    "print(a.shape)\n",
    "a[0] = 1\n",
    "print(a) #Oops!!"
   ]
  },
  {
   "cell_type": "code",
   "execution_count": 49,
   "metadata": {},
   "outputs": [
    {
     "name": "stdout",
     "output_type": "stream",
     "text": [
      "[[ 0.  0.  0.]]\n",
      "(1, 3)\n",
      "[[ 1.  0.  0.]]\n"
     ]
    }
   ],
   "source": [
    "a = np.zeros((1,3))\n",
    "print(a)\n",
    "print(a.shape)\n",
    "a[:,0] = 1\n",
    "print(a) #Ok!!"
   ]
  },
  {
   "cell_type": "markdown",
   "metadata": {},
   "source": [
    "<h1>2. Transform a numpy array!!</h1>"
   ]
  },
  {
   "cell_type": "code",
   "execution_count": 29,
   "metadata": {},
   "outputs": [
    {
     "name": "stdout",
     "output_type": "stream",
     "text": [
      "(100,)\n",
      "(10, 10)\n"
     ]
    }
   ],
   "source": [
    "a = np.arange(100)\n",
    "print(a.shape)\n",
    "a = a.reshape(10,10)\n",
    "print(a.shape)"
   ]
  },
  {
   "cell_type": "code",
   "execution_count": 42,
   "metadata": {},
   "outputs": [],
   "source": [
    "a = np.arange(10).reshape(1,10)\n",
    "b = np.arange(10).reshape(1,10) +10"
   ]
  },
  {
   "cell_type": "code",
   "execution_count": 43,
   "metadata": {},
   "outputs": [
    {
     "name": "stdout",
     "output_type": "stream",
     "text": [
      "[[ 0  1  2  3  4  5  6  7  8  9]\n",
      " [10 11 12 13 14 15 16 17 18 19]]\n",
      "(2, 10)\n"
     ]
    }
   ],
   "source": [
    "c = np.concatenate((a,b),axis =0)\n",
    "print(c)\n",
    "print(c.shape)"
   ]
  },
  {
   "cell_type": "code",
   "execution_count": 48,
   "metadata": {},
   "outputs": [
    {
     "name": "stdout",
     "output_type": "stream",
     "text": [
      "[[ 0  1  2  3  4  5  6  7  8  9 10 11 12 13 14 15 16 17 18 19]]\n",
      "(1, 20)\n"
     ]
    }
   ],
   "source": [
    "c = np.concatenate((a,b),axis =1)\n",
    "print(c)\n",
    "print(c.shape)"
   ]
  },
  {
   "cell_type": "markdown",
   "metadata": {},
   "source": [
    "<h1>3. Search a numpy array</h1>"
   ]
  },
  {
   "cell_type": "code",
   "execution_count": 57,
   "metadata": {},
   "outputs": [
    {
     "name": "stdout",
     "output_type": "stream",
     "text": [
      "4 6\n",
      "True\n"
     ]
    }
   ],
   "source": [
    "a = np.array([1,2,3,4,6,3,2,3,6,4,5])\n",
    "max_idx = a.argmax()\n",
    "print(max_idx,a[max_idx])\n",
    "print(max(a) == a[max_idx])"
   ]
  },
  {
   "cell_type": "code",
   "execution_count": 58,
   "metadata": {},
   "outputs": [],
   "source": [
    "#To do multi dimention argmax!!"
   ]
  },
  {
   "cell_type": "code",
   "execution_count": 89,
   "metadata": {},
   "outputs": [
    {
     "name": "stdout",
     "output_type": "stream",
     "text": [
      "[[0 0]\n",
      " [2 0]\n",
      " [3 0]\n",
      " [4 0]\n",
      " [7 0]]\n",
      "--------------------\n",
      "[[[5]\n",
      "  [5]]\n",
      "\n",
      " [[4]\n",
      "  [5]]\n",
      "\n",
      " [[5]\n",
      "  [5]]\n",
      "\n",
      " [[6]\n",
      "  [5]]\n",
      "\n",
      " [[4]\n",
      "  [5]]] (5, 2, 1)\n"
     ]
    }
   ],
   "source": [
    "a = np.array([5,2,4,5,6,1,3,4,2]).reshape(-1,1)\n",
    "args = np.argwhere(a>3)\n",
    "print(args)\n",
    "print(\"-\"*20)\n",
    "print(a[args],a[args].shape) # WTF!!?"
   ]
  },
  {
   "cell_type": "markdown",
   "metadata": {},
   "source": [
    "<h1>4. Misc</h1>"
   ]
  },
  {
   "cell_type": "code",
   "execution_count": 81,
   "metadata": {},
   "outputs": [
    {
     "name": "stdout",
     "output_type": "stream",
     "text": [
      "-0.00734857046817 0.970390780035\n"
     ]
    }
   ],
   "source": [
    "a = np.random.randn(1000)\n",
    "print(np.mean(a),np.std(a))"
   ]
  },
  {
   "cell_type": "code",
   "execution_count": 80,
   "metadata": {},
   "outputs": [
    {
     "data": {
      "text/plain": [
       "array([ 1.59204628,  2.76613806,  0.79161954, -1.42777767,  0.93020051,\n",
       "        0.68856377, -1.03682258,  1.21675596,  0.89839728, -0.10682395])"
      ]
     },
     "execution_count": 80,
     "metadata": {},
     "output_type": "execute_result"
    }
   ],
   "source": [
    "np.random.randn(10)"
   ]
  },
  {
   "cell_type": "code",
   "execution_count": null,
   "metadata": {},
   "outputs": [],
   "source": [
    "\"\"\"\n",
    "To do\n",
    "infinite\n",
    "sum\n",
    "sort\n",
    "\n",
    "\"\"\""
   ]
  }
 ],
 "metadata": {
  "kernelspec": {
   "display_name": "Python 3",
   "language": "python",
   "name": "python3"
  },
  "language_info": {
   "codemirror_mode": {
    "name": "ipython",
    "version": 3
   },
   "file_extension": ".py",
   "mimetype": "text/x-python",
   "name": "python",
   "nbconvert_exporter": "python",
   "pygments_lexer": "ipython3",
   "version": "3.6.5"
  }
 },
 "nbformat": 4,
 "nbformat_minor": 2
}
