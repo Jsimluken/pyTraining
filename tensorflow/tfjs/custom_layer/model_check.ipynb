{
 "cells": [
  {
   "cell_type": "code",
   "execution_count": 1,
   "metadata": {},
   "outputs": [],
   "source": [
    "import json"
   ]
  },
  {
   "cell_type": "code",
   "execution_count": 2,
   "metadata": {},
   "outputs": [],
   "source": [
    "with open(\"web_model2/model.json\") as f:\n",
    "    model = json.load(f)"
   ]
  },
  {
   "cell_type": "code",
   "execution_count": 7,
   "metadata": {},
   "outputs": [
    {
     "data": {
      "text/plain": [
       "[{'class_name': 'InputLayer',\n",
       "  'config': {'batch_input_shape': [None, 160, 160, 3],\n",
       "   'dtype': 'float32',\n",
       "   'sparse': False,\n",
       "   'name': 'input_2'},\n",
       "  'name': 'input_2',\n",
       "  'inbound_nodes': []},\n",
       " {'class_name': 'HyperScale',\n",
       "  'config': {'name': 'hyper_scale_1',\n",
       "   'trainable': True,\n",
       "   'dtype': 'float32',\n",
       "   'value': 0.17},\n",
       "  'name': 'hyper_scale_1',\n",
       "  'inbound_nodes': [[['input_2', 0, 0, {}]]]}]"
      ]
     },
     "execution_count": 7,
     "metadata": {},
     "output_type": "execute_result"
    }
   ],
   "source": [
    "model[\"modelTopology\"][\"model_config\"][\"config\"][\"layers\"]"
   ]
  },
  {
   "cell_type": "code",
   "execution_count": null,
   "metadata": {},
   "outputs": [],
   "source": []
  }
 ],
 "metadata": {
  "kernelspec": {
   "display_name": "Python 3",
   "language": "python",
   "name": "python3"
  },
  "language_info": {
   "codemirror_mode": {
    "name": "ipython",
    "version": 3
   },
   "file_extension": ".py",
   "mimetype": "text/x-python",
   "name": "python",
   "nbconvert_exporter": "python",
   "pygments_lexer": "ipython3",
   "version": "3.6.8"
  }
 },
 "nbformat": 4,
 "nbformat_minor": 2
}
