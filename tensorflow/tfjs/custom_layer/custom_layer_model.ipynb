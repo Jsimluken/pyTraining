{
 "cells": [
  {
   "cell_type": "code",
   "execution_count": 5,
   "metadata": {},
   "outputs": [],
   "source": [
    "import tensorflow as tf\n",
    "from tensorflow.keras.layers import Input\n",
    "from tensorflow.keras.models import load_model, Model"
   ]
  },
  {
   "cell_type": "code",
   "execution_count": 19,
   "metadata": {},
   "outputs": [],
   "source": [
    "class HyperScale(tf.keras.layers.Layer):\n",
    "    def __init__(self,value,**kargs):\n",
    "        super(HyperScale,self).__init__()\n",
    "        self.value = value\n",
    "        \n",
    "    def call(self, inputs):\n",
    "        return tf.multiply(inputs,self.value)\n",
    "    \n",
    "    def get_config(self):\n",
    "        config = {\n",
    "            \"value\":self.value\n",
    "        }\n",
    "        base_config = super(HyperScale, self).get_config()\n",
    "        config = dict(list(base_config.items()) + list(config.items()))\n",
    "        return config\n",
    "    "
   ]
  },
  {
   "cell_type": "code",
   "execution_count": 21,
   "metadata": {},
   "outputs": [],
   "source": [
    "input_ = Input((160,160,3))\n",
    "x = HyperScale(0.17)(input_)\n",
    "model = Model(input_,x)"
   ]
  },
  {
   "cell_type": "code",
   "execution_count": 22,
   "metadata": {},
   "outputs": [
    {
     "data": {
      "text/plain": [
       "array([[[[0.17, 0.17, 0.17],\n",
       "         [0.17, 0.17, 0.17],\n",
       "         [0.17, 0.17, 0.17],\n",
       "         ...,\n",
       "         [0.17, 0.17, 0.17],\n",
       "         [0.17, 0.17, 0.17],\n",
       "         [0.17, 0.17, 0.17]],\n",
       "\n",
       "        [[0.17, 0.17, 0.17],\n",
       "         [0.17, 0.17, 0.17],\n",
       "         [0.17, 0.17, 0.17],\n",
       "         ...,\n",
       "         [0.17, 0.17, 0.17],\n",
       "         [0.17, 0.17, 0.17],\n",
       "         [0.17, 0.17, 0.17]],\n",
       "\n",
       "        [[0.17, 0.17, 0.17],\n",
       "         [0.17, 0.17, 0.17],\n",
       "         [0.17, 0.17, 0.17],\n",
       "         ...,\n",
       "         [0.17, 0.17, 0.17],\n",
       "         [0.17, 0.17, 0.17],\n",
       "         [0.17, 0.17, 0.17]],\n",
       "\n",
       "        ...,\n",
       "\n",
       "        [[0.17, 0.17, 0.17],\n",
       "         [0.17, 0.17, 0.17],\n",
       "         [0.17, 0.17, 0.17],\n",
       "         ...,\n",
       "         [0.17, 0.17, 0.17],\n",
       "         [0.17, 0.17, 0.17],\n",
       "         [0.17, 0.17, 0.17]],\n",
       "\n",
       "        [[0.17, 0.17, 0.17],\n",
       "         [0.17, 0.17, 0.17],\n",
       "         [0.17, 0.17, 0.17],\n",
       "         ...,\n",
       "         [0.17, 0.17, 0.17],\n",
       "         [0.17, 0.17, 0.17],\n",
       "         [0.17, 0.17, 0.17]],\n",
       "\n",
       "        [[0.17, 0.17, 0.17],\n",
       "         [0.17, 0.17, 0.17],\n",
       "         [0.17, 0.17, 0.17],\n",
       "         ...,\n",
       "         [0.17, 0.17, 0.17],\n",
       "         [0.17, 0.17, 0.17],\n",
       "         [0.17, 0.17, 0.17]]]], dtype=float32)"
      ]
     },
     "execution_count": 22,
     "metadata": {},
     "output_type": "execute_result"
    }
   ],
   "source": [
    "model.predict(tf.ones((1,160,160,3)))"
   ]
  },
  {
   "cell_type": "code",
   "execution_count": 23,
   "metadata": {},
   "outputs": [],
   "source": [
    "model.save(\"hyper.h5\")"
   ]
  },
  {
   "cell_type": "code",
   "execution_count": 25,
   "metadata": {},
   "outputs": [
    {
     "name": "stdout",
     "output_type": "stream",
     "text": [
      "WARNING:tensorflow:No training configuration found in save file: the model was *not* compiled. Compile it manually.\n"
     ]
    }
   ],
   "source": [
    "model2 = load_model(\"hyper.h5\",custom_objects={\"HyperScale\":HyperScale})"
   ]
  },
  {
   "cell_type": "code",
   "execution_count": 26,
   "metadata": {},
   "outputs": [
    {
     "data": {
      "text/plain": [
       "array([[[[0.17, 0.17, 0.17],\n",
       "         [0.17, 0.17, 0.17],\n",
       "         [0.17, 0.17, 0.17],\n",
       "         ...,\n",
       "         [0.17, 0.17, 0.17],\n",
       "         [0.17, 0.17, 0.17],\n",
       "         [0.17, 0.17, 0.17]],\n",
       "\n",
       "        [[0.17, 0.17, 0.17],\n",
       "         [0.17, 0.17, 0.17],\n",
       "         [0.17, 0.17, 0.17],\n",
       "         ...,\n",
       "         [0.17, 0.17, 0.17],\n",
       "         [0.17, 0.17, 0.17],\n",
       "         [0.17, 0.17, 0.17]],\n",
       "\n",
       "        [[0.17, 0.17, 0.17],\n",
       "         [0.17, 0.17, 0.17],\n",
       "         [0.17, 0.17, 0.17],\n",
       "         ...,\n",
       "         [0.17, 0.17, 0.17],\n",
       "         [0.17, 0.17, 0.17],\n",
       "         [0.17, 0.17, 0.17]],\n",
       "\n",
       "        ...,\n",
       "\n",
       "        [[0.17, 0.17, 0.17],\n",
       "         [0.17, 0.17, 0.17],\n",
       "         [0.17, 0.17, 0.17],\n",
       "         ...,\n",
       "         [0.17, 0.17, 0.17],\n",
       "         [0.17, 0.17, 0.17],\n",
       "         [0.17, 0.17, 0.17]],\n",
       "\n",
       "        [[0.17, 0.17, 0.17],\n",
       "         [0.17, 0.17, 0.17],\n",
       "         [0.17, 0.17, 0.17],\n",
       "         ...,\n",
       "         [0.17, 0.17, 0.17],\n",
       "         [0.17, 0.17, 0.17],\n",
       "         [0.17, 0.17, 0.17]],\n",
       "\n",
       "        [[0.17, 0.17, 0.17],\n",
       "         [0.17, 0.17, 0.17],\n",
       "         [0.17, 0.17, 0.17],\n",
       "         ...,\n",
       "         [0.17, 0.17, 0.17],\n",
       "         [0.17, 0.17, 0.17],\n",
       "         [0.17, 0.17, 0.17]]]], dtype=float32)"
      ]
     },
     "execution_count": 26,
     "metadata": {},
     "output_type": "execute_result"
    }
   ],
   "source": [
    "model2.predict(tf.ones((1,160,160,3)))"
   ]
  },
  {
   "cell_type": "code",
   "execution_count": null,
   "metadata": {},
   "outputs": [],
   "source": []
  }
 ],
 "metadata": {
  "kernelspec": {
   "display_name": "Python 3",
   "language": "python",
   "name": "python3"
  },
  "language_info": {
   "codemirror_mode": {
    "name": "ipython",
    "version": 3
   },
   "file_extension": ".py",
   "mimetype": "text/x-python",
   "name": "python",
   "nbconvert_exporter": "python",
   "pygments_lexer": "ipython3",
   "version": "3.6.8"
  }
 },
 "nbformat": 4,
 "nbformat_minor": 2
}
