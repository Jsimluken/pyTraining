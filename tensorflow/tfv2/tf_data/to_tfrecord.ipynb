{
 "cells": [
  {
   "cell_type": "code",
   "execution_count": 6,
   "metadata": {},
   "outputs": [],
   "source": [
    "import tensorflow as tf\n",
    "from google_images_download import google_images_download\n",
    "from glob import glob"
   ]
  },
  {
   "cell_type": "code",
   "execution_count": 3,
   "metadata": {},
   "outputs": [],
   "source": [
    "response = google_images_download.googleimagesdownload()"
   ]
  },
  {
   "cell_type": "code",
   "execution_count": 5,
   "metadata": {},
   "outputs": [
    {
     "name": "stdout",
     "output_type": "stream",
     "text": [
      "\n",
      "Item no.: 1 --> Item name = Trump\n",
      "Evaluating...\n",
      "Starting Download...\n",
      "Completed Image ====> 1.1200px-Donald_Trump_official_portrait.jpg\n",
      "Completed Image ====> 2.Trump-1.jpg\n",
      "Completed Image ====> 3.shutterstock_editorial_10434333bm.jpg\n",
      "Invalid or missing image format. Skipping...\n",
      "Invalid or missing image format. Skipping...\n",
      "Completed Image ====> 4.191126115106-01-trump-1126-exlarge-169.jpg\n",
      "Completed Image ====> 5.p07xty0h.jpg\n",
      "Completed Image ====> 6.7c97e4730a334776bbb418bed4d563f2_18.jpg\n",
      "Completed Image ====> 7.1ab3a9e580414748a9772bdab2d1dfb5_18.jpg\n",
      "Completed Image ====> 8.106146633-1569349875620rtx74f71.jpg\n",
      "Completed Image ====> 9.merlin_166097061_245e2dea-f9b9-4442-a8e2-af0c7cf7744c-articleLarge.jpg\n",
      "Invalid or missing image format. Skipping...\n",
      "Invalid or missing image format. Skipping...\n",
      "Completed Image ====> 10.1165378207.jpg\n",
      "Completed Image ====> 11.190924152430-02-trump-unga-0924-exlarge-169.jpg\n",
      "Completed Image ====> 12.donald-trump-august-2019-e1566168925130.jpg\n",
      "Completed Image ====> 13.800.jpeg\n",
      "Completed Image ====> 14.106248005-1573832235437rtx78xj6.jpg\n",
      "Completed Image ====> 15.GettyImages-1164184600.jpg\n",
      "Completed Image ====> 16.trumpshutdownraises.jpg\n",
      "Completed Image ====> 17.gettyimages-1173916026.jpg\n",
      "Invalid or missing image format. Skipping...\n",
      "Invalid or missing image format. Skipping...\n",
      "Completed Image ====> 18.AP_19353074179001.jpg\n",
      "Invalid or missing image format. Skipping...\n",
      "Completed Image ====> 19.22Dowd-articleLarge.jpg\n",
      "Completed Image ====> 20.GettyImages-1171070862-trump-1570656123-e1570656263210.jpg\n",
      "Completed Image ====> 21.trump-tweets-060919.jpg\n",
      "Invalid or missing image format. Skipping...\n",
      "Completed Image ====> 22.Trump.jpg\n",
      "Completed Image ====> 23.c4e91bf15f80472eb16bb4891cf28466_18.jpg\n",
      "Invalid or missing image format. Skipping...\n",
      "Completed Image ====> 24.191219184312-trump-oval-office-dec-19-super-tease.jpg\n",
      "Completed Image ====> 25._108978234_hi056797616.jpg\n",
      "Completed Image ====> 26.donald-trump.jpg\n",
      "IOError on an image...trying next one... Error: The read operation timed out\n",
      "Completed Image ====> 27.merlin_165855273_95e3f63d-c67a-4020-945b-4de5b4afa2e1-articleLarge.jpg\n",
      "Completed Image ====> 28.president-donald-trump-2020-campaign-01.jpg\n",
      "Invalid or missing image format. Skipping...\n",
      "Completed Image ====> 29.https%3A%2F%2Fcdn.cnn.com%2Fcnnnext%2Fdam%2Fassets%2F191219170717-trump-12192019.jpg\n",
      "Completed Image ====> 30.800.jpeg\n",
      "Completed Image ====> 31.GettyImages-1170743039-1569506853.jpg\n",
      "Completed Image ====> 32.02TRUMPMEDIA-01-articleLarge.jpg\n",
      "Completed Image ====> 33.donald-trump_01.jpg\n",
      "Completed Image ====> 34.GettyImages_1183630735.0.jpg\n",
      "Completed Image ====> 35.944fcee45a34df370521d8bbd37b3a68.jpg\n",
      "Completed Image ====> 36.717qXpCWz-L.jpg\n",
      "Completed Image ====> 37.nato-summit-trump-defense-spending-GettyImages-1186241816.jpg\n",
      "Completed Image ====> 38.eaf2d78b5967471096f8ebd51d38f01b_18.jpg\n",
      "Completed Image ====> 39.president-donald-trump.jpg\n",
      "Completed Image ====> 40.trump-christianity-today-impeach-0d3e474b8fcd4a84eb788e4ed36a1daa4c0e6b4b-s800-c85.jpg\n",
      "Completed Image ====> 41.191218-donald-trump-al-0924_a81696268a7c48f5f5d6c592cf06e6d3.jpg\n",
      "Completed Image ====> 42.8.jpg\n",
      "Completed Image ====> 43.thanos-trump.jpg\n",
      "Completed Image ====> 44.trump.jpg\n",
      "Completed Image ====> 45.merlin_161490147_456d4c7a-c150-413c-ad5d-796a4dacdb7c-articleLarge.jpg\n",
      "Completed Image ====> 46.1182405484.jpg\n",
      "Invalid or missing image format. Skipping...\n",
      "Completed Image ====> 47.trump-point.jpg\n",
      "Completed Image ====> 48.71IR9ucf2KL.jpg\n",
      "Invalid or missing image format. Skipping...\n",
      "Completed Image ====> 49.og_image.jpg\n",
      "Completed Image ====> 50.p07ws7gg.jpg\n",
      "Completed Image ====> 51.science_trump_1161844503.jpg\n",
      "Completed Image ====> 52.donald-trump-departure-02-gty-jc-191218_hpMain_16x9_992.jpg\n",
      "Invalid or missing image format. Skipping...\n",
      "Completed Image ====> 53.lead_720_405.jpg\n",
      "Completed Image ====> 54.51L9FCldCHL._SX258_BO1,204,203,200_.jpg\n",
      "Completed Image ====> 55.GettyImages-801506658.jpg\n",
      "Invalid or missing image format. Skipping...\n",
      "Completed Image ====> 56.694940094001_6115118737001_6115109820001-vs.jpg\n",
      "Completed Image ====> 57.trump_wig_fb.jpg\n",
      "Invalid or missing image format. Skipping...\n",
      "Invalid or missing image format. Skipping...\n",
      "Completed Image ====> 58.hv5soju7_400x400.jpg\n",
      "Invalid or missing image format. Skipping...\n",
      "Invalid or missing image format. Skipping...\n",
      "Completed Image ====> 59.1086449580.jpg\n",
      "Completed Image ====> 60.106207674-1572279796614rts2t8up.jpg\n",
      "Completed Image ====> 61.https%3A%2F%2Fcdn.cnn.com%2Fcnnnext%2Fdam%2Fassets%2F161228202022-donald-trump-mar-a-lago.jpg\n",
      "Invalid or missing image format. Skipping...\n",
      "Completed Image ====> 62.62178f9370ac4b979715d75e09319402.jpg\n",
      "Completed Image ====> 63.Cassidy-TrumpWhistleBlower.jpg\n",
      "Completed Image ====> 64.donald-trump-october-2019-2.jpg\n",
      "Completed Image ====> 65.p07p21qv.jpg\n",
      "Completed Image ====> 66.trump.jpg\n",
      "Completed Image ====> 67.Borowitz-TrumpNATO.jpg\n",
      "Completed Image ====> 68.Trump.jpg\n",
      "Completed Image ====> 69.960x0.jpg\n",
      "Invalid or missing image format. Skipping...\n",
      "Completed Image ====> 70.20191023TrumpConflicts.jpg\n",
      "Completed Image ====> 71.gettyimages-829473724-1570568717.jpg\n",
      "Completed Image ====> 72.trm.jpg\n",
      "Completed Image ====> 73.trump.jpg\n",
      "Completed Image ====> 74.191112132102-04-trump-1104-lead-image-exlarge-169.jpg\n",
      "Completed Image ====> 75.trump-turkey-pardon-thanksgiving-ap-img.jpg\n",
      "Completed Image ====> 76.shutterstock_editorial_10442060s.jpg\n",
      "Completed Image ====> 77.d9198-246-949013-0.jpg\n",
      "Completed Image ====> 78.Glasser-TrumpCollusionInterview.jpg\n",
      "Completed Image ====> 79.trump-poll.jpg\n",
      "\n",
      "\n",
      "Unfortunately all 100 could not be downloaded because some images were not downloadable. 79 is all we got for this search filter!\n",
      "\n",
      "Errors: 21\n",
      "\n"
     ]
    },
    {
     "data": {
      "text/plain": [
       "({'Trump': ['/Users/jsimluken/Documents/pyTraining/tensorflow/tfv2/tf_data/downloads/Trump/1.1200px-Donald_Trump_official_portrait.jpg',\n",
       "   '/Users/jsimluken/Documents/pyTraining/tensorflow/tfv2/tf_data/downloads/Trump/2.Trump-1.jpg',\n",
       "   '/Users/jsimluken/Documents/pyTraining/tensorflow/tfv2/tf_data/downloads/Trump/3.shutterstock_editorial_10434333bm.jpg',\n",
       "   '/Users/jsimluken/Documents/pyTraining/tensorflow/tfv2/tf_data/downloads/Trump/4.191126115106-01-trump-1126-exlarge-169.jpg',\n",
       "   '/Users/jsimluken/Documents/pyTraining/tensorflow/tfv2/tf_data/downloads/Trump/5.p07xty0h.jpg',\n",
       "   '/Users/jsimluken/Documents/pyTraining/tensorflow/tfv2/tf_data/downloads/Trump/6.7c97e4730a334776bbb418bed4d563f2_18.jpg',\n",
       "   '/Users/jsimluken/Documents/pyTraining/tensorflow/tfv2/tf_data/downloads/Trump/7.1ab3a9e580414748a9772bdab2d1dfb5_18.jpg',\n",
       "   '/Users/jsimluken/Documents/pyTraining/tensorflow/tfv2/tf_data/downloads/Trump/8.106146633-1569349875620rtx74f71.jpg',\n",
       "   '/Users/jsimluken/Documents/pyTraining/tensorflow/tfv2/tf_data/downloads/Trump/9.merlin_166097061_245e2dea-f9b9-4442-a8e2-af0c7cf7744c-articleLarge.jpg',\n",
       "   '/Users/jsimluken/Documents/pyTraining/tensorflow/tfv2/tf_data/downloads/Trump/10.1165378207.jpg',\n",
       "   '/Users/jsimluken/Documents/pyTraining/tensorflow/tfv2/tf_data/downloads/Trump/11.190924152430-02-trump-unga-0924-exlarge-169.jpg',\n",
       "   '/Users/jsimluken/Documents/pyTraining/tensorflow/tfv2/tf_data/downloads/Trump/12.donald-trump-august-2019-e1566168925130.jpg',\n",
       "   '/Users/jsimluken/Documents/pyTraining/tensorflow/tfv2/tf_data/downloads/Trump/13.800.jpeg',\n",
       "   '/Users/jsimluken/Documents/pyTraining/tensorflow/tfv2/tf_data/downloads/Trump/14.106248005-1573832235437rtx78xj6.jpg',\n",
       "   '/Users/jsimluken/Documents/pyTraining/tensorflow/tfv2/tf_data/downloads/Trump/15.GettyImages-1164184600.jpg',\n",
       "   '/Users/jsimluken/Documents/pyTraining/tensorflow/tfv2/tf_data/downloads/Trump/16.trumpshutdownraises.jpg',\n",
       "   '/Users/jsimluken/Documents/pyTraining/tensorflow/tfv2/tf_data/downloads/Trump/17.gettyimages-1173916026.jpg',\n",
       "   '/Users/jsimluken/Documents/pyTraining/tensorflow/tfv2/tf_data/downloads/Trump/18.AP_19353074179001.jpg',\n",
       "   '/Users/jsimluken/Documents/pyTraining/tensorflow/tfv2/tf_data/downloads/Trump/19.22Dowd-articleLarge.jpg',\n",
       "   '/Users/jsimluken/Documents/pyTraining/tensorflow/tfv2/tf_data/downloads/Trump/20.GettyImages-1171070862-trump-1570656123-e1570656263210.jpg',\n",
       "   '/Users/jsimluken/Documents/pyTraining/tensorflow/tfv2/tf_data/downloads/Trump/21.trump-tweets-060919.jpg',\n",
       "   '/Users/jsimluken/Documents/pyTraining/tensorflow/tfv2/tf_data/downloads/Trump/22.Trump.jpg',\n",
       "   '/Users/jsimluken/Documents/pyTraining/tensorflow/tfv2/tf_data/downloads/Trump/23.c4e91bf15f80472eb16bb4891cf28466_18.jpg',\n",
       "   '/Users/jsimluken/Documents/pyTraining/tensorflow/tfv2/tf_data/downloads/Trump/24.191219184312-trump-oval-office-dec-19-super-tease.jpg',\n",
       "   '/Users/jsimluken/Documents/pyTraining/tensorflow/tfv2/tf_data/downloads/Trump/25._108978234_hi056797616.jpg',\n",
       "   '/Users/jsimluken/Documents/pyTraining/tensorflow/tfv2/tf_data/downloads/Trump/26.donald-trump.jpg',\n",
       "   '/Users/jsimluken/Documents/pyTraining/tensorflow/tfv2/tf_data/downloads/Trump/27.merlin_165855273_95e3f63d-c67a-4020-945b-4de5b4afa2e1-articleLarge.jpg',\n",
       "   '/Users/jsimluken/Documents/pyTraining/tensorflow/tfv2/tf_data/downloads/Trump/28.president-donald-trump-2020-campaign-01.jpg',\n",
       "   '/Users/jsimluken/Documents/pyTraining/tensorflow/tfv2/tf_data/downloads/Trump/29.https%3A%2F%2Fcdn.cnn.com%2Fcnnnext%2Fdam%2Fassets%2F191219170717-trump-12192019.jpg',\n",
       "   '/Users/jsimluken/Documents/pyTraining/tensorflow/tfv2/tf_data/downloads/Trump/30.800.jpeg',\n",
       "   '/Users/jsimluken/Documents/pyTraining/tensorflow/tfv2/tf_data/downloads/Trump/31.GettyImages-1170743039-1569506853.jpg',\n",
       "   '/Users/jsimluken/Documents/pyTraining/tensorflow/tfv2/tf_data/downloads/Trump/32.02TRUMPMEDIA-01-articleLarge.jpg',\n",
       "   '/Users/jsimluken/Documents/pyTraining/tensorflow/tfv2/tf_data/downloads/Trump/33.donald-trump_01.jpg',\n",
       "   '/Users/jsimluken/Documents/pyTraining/tensorflow/tfv2/tf_data/downloads/Trump/34.GettyImages_1183630735.0.jpg',\n",
       "   '/Users/jsimluken/Documents/pyTraining/tensorflow/tfv2/tf_data/downloads/Trump/35.944fcee45a34df370521d8bbd37b3a68.jpg',\n",
       "   '/Users/jsimluken/Documents/pyTraining/tensorflow/tfv2/tf_data/downloads/Trump/36.717qXpCWz-L.jpg',\n",
       "   '/Users/jsimluken/Documents/pyTraining/tensorflow/tfv2/tf_data/downloads/Trump/37.nato-summit-trump-defense-spending-GettyImages-1186241816.jpg',\n",
       "   '/Users/jsimluken/Documents/pyTraining/tensorflow/tfv2/tf_data/downloads/Trump/38.eaf2d78b5967471096f8ebd51d38f01b_18.jpg',\n",
       "   '/Users/jsimluken/Documents/pyTraining/tensorflow/tfv2/tf_data/downloads/Trump/39.president-donald-trump.jpg',\n",
       "   '/Users/jsimluken/Documents/pyTraining/tensorflow/tfv2/tf_data/downloads/Trump/40.trump-christianity-today-impeach-0d3e474b8fcd4a84eb788e4ed36a1daa4c0e6b4b-s800-c85.jpg',\n",
       "   '/Users/jsimluken/Documents/pyTraining/tensorflow/tfv2/tf_data/downloads/Trump/41.191218-donald-trump-al-0924_a81696268a7c48f5f5d6c592cf06e6d3.jpg',\n",
       "   '/Users/jsimluken/Documents/pyTraining/tensorflow/tfv2/tf_data/downloads/Trump/42.8.jpg',\n",
       "   '/Users/jsimluken/Documents/pyTraining/tensorflow/tfv2/tf_data/downloads/Trump/43.thanos-trump.jpg',\n",
       "   '/Users/jsimluken/Documents/pyTraining/tensorflow/tfv2/tf_data/downloads/Trump/44.trump.jpg',\n",
       "   '/Users/jsimluken/Documents/pyTraining/tensorflow/tfv2/tf_data/downloads/Trump/45.merlin_161490147_456d4c7a-c150-413c-ad5d-796a4dacdb7c-articleLarge.jpg',\n",
       "   '/Users/jsimluken/Documents/pyTraining/tensorflow/tfv2/tf_data/downloads/Trump/46.1182405484.jpg',\n",
       "   '/Users/jsimluken/Documents/pyTraining/tensorflow/tfv2/tf_data/downloads/Trump/47.trump-point.jpg',\n",
       "   '/Users/jsimluken/Documents/pyTraining/tensorflow/tfv2/tf_data/downloads/Trump/48.71IR9ucf2KL.jpg',\n",
       "   '/Users/jsimluken/Documents/pyTraining/tensorflow/tfv2/tf_data/downloads/Trump/49.og_image.jpg',\n",
       "   '/Users/jsimluken/Documents/pyTraining/tensorflow/tfv2/tf_data/downloads/Trump/50.p07ws7gg.jpg',\n",
       "   '/Users/jsimluken/Documents/pyTraining/tensorflow/tfv2/tf_data/downloads/Trump/51.science_trump_1161844503.jpg',\n",
       "   '/Users/jsimluken/Documents/pyTraining/tensorflow/tfv2/tf_data/downloads/Trump/52.donald-trump-departure-02-gty-jc-191218_hpMain_16x9_992.jpg',\n",
       "   '/Users/jsimluken/Documents/pyTraining/tensorflow/tfv2/tf_data/downloads/Trump/53.lead_720_405.jpg',\n",
       "   '/Users/jsimluken/Documents/pyTraining/tensorflow/tfv2/tf_data/downloads/Trump/54.51L9FCldCHL._SX258_BO1,204,203,200_.jpg',\n",
       "   '/Users/jsimluken/Documents/pyTraining/tensorflow/tfv2/tf_data/downloads/Trump/55.GettyImages-801506658.jpg',\n",
       "   '/Users/jsimluken/Documents/pyTraining/tensorflow/tfv2/tf_data/downloads/Trump/56.694940094001_6115118737001_6115109820001-vs.jpg',\n",
       "   '/Users/jsimluken/Documents/pyTraining/tensorflow/tfv2/tf_data/downloads/Trump/57.trump_wig_fb.jpg',\n",
       "   '/Users/jsimluken/Documents/pyTraining/tensorflow/tfv2/tf_data/downloads/Trump/58.hv5soju7_400x400.jpg',\n",
       "   '/Users/jsimluken/Documents/pyTraining/tensorflow/tfv2/tf_data/downloads/Trump/59.1086449580.jpg',\n",
       "   '/Users/jsimluken/Documents/pyTraining/tensorflow/tfv2/tf_data/downloads/Trump/60.106207674-1572279796614rts2t8up.jpg',\n",
       "   '/Users/jsimluken/Documents/pyTraining/tensorflow/tfv2/tf_data/downloads/Trump/61.https%3A%2F%2Fcdn.cnn.com%2Fcnnnext%2Fdam%2Fassets%2F161228202022-donald-trump-mar-a-lago.jpg',\n",
       "   '/Users/jsimluken/Documents/pyTraining/tensorflow/tfv2/tf_data/downloads/Trump/62.62178f9370ac4b979715d75e09319402.jpg',\n",
       "   '/Users/jsimluken/Documents/pyTraining/tensorflow/tfv2/tf_data/downloads/Trump/63.Cassidy-TrumpWhistleBlower.jpg',\n",
       "   '/Users/jsimluken/Documents/pyTraining/tensorflow/tfv2/tf_data/downloads/Trump/64.donald-trump-october-2019-2.jpg',\n",
       "   '/Users/jsimluken/Documents/pyTraining/tensorflow/tfv2/tf_data/downloads/Trump/65.p07p21qv.jpg',\n",
       "   '/Users/jsimluken/Documents/pyTraining/tensorflow/tfv2/tf_data/downloads/Trump/66.trump.jpg',\n",
       "   '/Users/jsimluken/Documents/pyTraining/tensorflow/tfv2/tf_data/downloads/Trump/67.Borowitz-TrumpNATO.jpg',\n",
       "   '/Users/jsimluken/Documents/pyTraining/tensorflow/tfv2/tf_data/downloads/Trump/68.Trump.jpg',\n",
       "   '/Users/jsimluken/Documents/pyTraining/tensorflow/tfv2/tf_data/downloads/Trump/69.960x0.jpg',\n",
       "   '/Users/jsimluken/Documents/pyTraining/tensorflow/tfv2/tf_data/downloads/Trump/70.20191023TrumpConflicts.jpg',\n",
       "   '/Users/jsimluken/Documents/pyTraining/tensorflow/tfv2/tf_data/downloads/Trump/71.gettyimages-829473724-1570568717.jpg',\n",
       "   '/Users/jsimluken/Documents/pyTraining/tensorflow/tfv2/tf_data/downloads/Trump/72.trm.jpg',\n",
       "   '/Users/jsimluken/Documents/pyTraining/tensorflow/tfv2/tf_data/downloads/Trump/73.trump.jpg',\n",
       "   '/Users/jsimluken/Documents/pyTraining/tensorflow/tfv2/tf_data/downloads/Trump/74.191112132102-04-trump-1104-lead-image-exlarge-169.jpg',\n",
       "   '/Users/jsimluken/Documents/pyTraining/tensorflow/tfv2/tf_data/downloads/Trump/75.trump-turkey-pardon-thanksgiving-ap-img.jpg',\n",
       "   '/Users/jsimluken/Documents/pyTraining/tensorflow/tfv2/tf_data/downloads/Trump/76.shutterstock_editorial_10442060s.jpg',\n",
       "   '/Users/jsimluken/Documents/pyTraining/tensorflow/tfv2/tf_data/downloads/Trump/77.d9198-246-949013-0.jpg',\n",
       "   '/Users/jsimluken/Documents/pyTraining/tensorflow/tfv2/tf_data/downloads/Trump/78.Glasser-TrumpCollusionInterview.jpg',\n",
       "   '/Users/jsimluken/Documents/pyTraining/tensorflow/tfv2/tf_data/downloads/Trump/79.trump-poll.jpg']},\n",
       " 21)"
      ]
     },
     "execution_count": 5,
     "metadata": {},
     "output_type": "execute_result"
    }
   ],
   "source": [
    "response.download({\"keywords\":\"Trump\"})"
   ]
  },
  {
   "cell_type": "code",
   "execution_count": 7,
   "metadata": {},
   "outputs": [],
   "source": [
    "files = glob(\"downloads/Trump/*\")"
   ]
  },
  {
   "cell_type": "code",
   "execution_count": 12,
   "metadata": {},
   "outputs": [
    {
     "data": {
      "text/plain": [
       "'downloads/Trump/58.hv5soju7_400x400.jpg'"
      ]
     },
     "execution_count": 12,
     "metadata": {},
     "output_type": "execute_result"
    }
   ],
   "source": [
    "raw = tf.io.read_file(files[0])\n",
    "files[0]"
   ]
  },
  {
   "cell_type": "code",
   "execution_count": 44,
   "metadata": {},
   "outputs": [],
   "source": [
    "def make_dataset(files):\n",
    "    dataset = tf.data.Dataset.from_tensor_slices(files)\n",
    "    \n",
    "    def _load_file(file):\n",
    "        name = tf.strings.split(file,\"/\")[-1]\n",
    "        id_ = tf.strings.split(name,\".\")[0]\n",
    "        id_ = tf.strings.to_number(id_)\n",
    "        raw = tf.io.read_file(file)\n",
    "        img_tensor = tf.image.decode_image(raw)\n",
    "        return img_tensor,id_\n",
    "    dataset = dataset.map(_load_file)\n",
    "    return dataset"
   ]
  },
  {
   "cell_type": "code",
   "execution_count": 47,
   "metadata": {},
   "outputs": [
    {
     "data": {
      "text/plain": [
       "<MapDataset shapes: (<unknown>, ()), types: (tf.uint8, tf.float32)>"
      ]
     },
     "execution_count": 47,
     "metadata": {},
     "output_type": "execute_result"
    }
   ],
   "source": [
    "dataset = make_dataset(files)\n",
    "dataset"
   ]
  },
  {
   "cell_type": "code",
   "execution_count": 49,
   "metadata": {},
   "outputs": [
    {
     "name": "stdout",
     "output_type": "stream",
     "text": [
      "tf.Tensor(58.0, shape=(), dtype=float32)\n",
      "tf.Tensor(1.0, shape=(), dtype=float32)\n",
      "tf.Tensor(63.0, shape=(), dtype=float32)\n",
      "tf.Tensor(46.0, shape=(), dtype=float32)\n",
      "tf.Tensor(60.0, shape=(), dtype=float32)\n",
      "tf.Tensor(70.0, shape=(), dtype=float32)\n",
      "tf.Tensor(64.0, shape=(), dtype=float32)\n",
      "tf.Tensor(40.0, shape=(), dtype=float32)\n",
      "tf.Tensor(31.0, shape=(), dtype=float32)\n",
      "tf.Tensor(2.0, shape=(), dtype=float32)\n"
     ]
    }
   ],
   "source": [
    "for img,id_ in dataset.take(10):\n",
    "    print(id_)"
   ]
  },
  {
   "cell_type": "code",
   "execution_count": 50,
   "metadata": {},
   "outputs": [],
   "source": []
  },
  {
   "cell_type": "code",
   "execution_count": 51,
   "metadata": {},
   "outputs": [
    {
     "ename": "AttributeError",
     "evalue": "'tuple' object has no attribute 'is_compatible_with'",
     "output_type": "error",
     "traceback": [
      "\u001b[0;31m---------------------------------------------------------------------------\u001b[0m",
      "\u001b[0;31mAttributeError\u001b[0m                            Traceback (most recent call last)",
      "\u001b[0;32m<ipython-input-51-5927ee2200c0>\u001b[0m in \u001b[0;36m<module>\u001b[0;34m\u001b[0m\n\u001b[0;32m----> 1\u001b[0;31m \u001b[0mtfrec\u001b[0m\u001b[0;34m.\u001b[0m\u001b[0mwrite\u001b[0m\u001b[0;34m(\u001b[0m\u001b[0mdataset\u001b[0m\u001b[0;34m)\u001b[0m\u001b[0;34m\u001b[0m\u001b[0;34m\u001b[0m\u001b[0m\n\u001b[0m",
      "\u001b[0;32m~/.pyenv/versions/miniconda3-latest/lib/python3.6/site-packages/tensorflow_core/python/data/experimental/ops/writers.py\u001b[0m in \u001b[0;36mwrite\u001b[0;34m(self, dataset)\u001b[0m\n\u001b[1;32m     77\u001b[0m     \u001b[0;32mif\u001b[0m \u001b[0;32mnot\u001b[0m \u001b[0misinstance\u001b[0m\u001b[0;34m(\u001b[0m\u001b[0mdataset\u001b[0m\u001b[0;34m,\u001b[0m \u001b[0mdataset_ops\u001b[0m\u001b[0;34m.\u001b[0m\u001b[0mDatasetV2\u001b[0m\u001b[0;34m)\u001b[0m\u001b[0;34m:\u001b[0m\u001b[0;34m\u001b[0m\u001b[0;34m\u001b[0m\u001b[0m\n\u001b[1;32m     78\u001b[0m       \u001b[0;32mraise\u001b[0m \u001b[0mTypeError\u001b[0m\u001b[0;34m(\u001b[0m\u001b[0;34m\"`dataset` must be a `tf.data.Dataset` object.\"\u001b[0m\u001b[0;34m)\u001b[0m\u001b[0;34m\u001b[0m\u001b[0;34m\u001b[0m\u001b[0m\n\u001b[0;32m---> 79\u001b[0;31m     if not dataset_ops.get_structure(dataset).is_compatible_with(\n\u001b[0m\u001b[1;32m     80\u001b[0m         tensor_spec.TensorSpec([], dtypes.string)):\n\u001b[1;32m     81\u001b[0m       raise TypeError(\n",
      "\u001b[0;31mAttributeError\u001b[0m: 'tuple' object has no attribute 'is_compatible_with'"
     ]
    }
   ],
   "source": [
    "tfrec.write(dataset)"
   ]
  },
  {
   "cell_type": "code",
   "execution_count": 52,
   "metadata": {},
   "outputs": [
    {
     "data": {
      "text/plain": [
       "<MapDataset shapes: (<unknown>, ()), types: (tf.uint8, tf.float32)>"
      ]
     },
     "execution_count": 52,
     "metadata": {},
     "output_type": "execute_result"
    }
   ],
   "source": [
    "dataset"
   ]
  },
  {
   "cell_type": "code",
   "execution_count": 101,
   "metadata": {},
   "outputs": [],
   "source": [
    "def to_tfrecord(files):\n",
    "    dataset = tf.data.Dataset.from_tensor_slices(files)\n",
    "    def _load(file):\n",
    "        name = tf.strings.split(file,\"/\")[-1]\n",
    "        id_ = tf.strings.split(name,\".\")[0]\n",
    "        id_ = tf.strings.to_number(id_)\n",
    "        raw = tf.io.read_file(file)\n",
    "        return raw,id_\n",
    "\n",
    "    def _serialize(raw,id_):\n",
    "        feature = {\n",
    "            \"image\":tf.train.Feature(bytes_list=tf.train.BytesList(value=[raw.numpy()])),\n",
    "            \"id\":tf.train.Feature(float_list=tf.train.FloatList(value=[id_]))\n",
    "        }\n",
    "        example_proto = tf.train.Example(features=tf.train.Features(feature=feature))\n",
    "        return example_proto.SerializeToString()\n",
    "    def tf_serialize_example(raw,id_):\n",
    "        tf_string = tf.py_function(\n",
    "            _serialize, \n",
    "            (raw,id_),  # 上記の関数にこれらの引数を渡す\n",
    "            tf.string)      # 戻り値の型は tf.string\n",
    "        return tf.reshape(tf_string, ())\n",
    "        \n",
    "    dataset = dataset.map(_load).map(tf_serialize_example)\n",
    "    \n",
    "    return dataset\n",
    "    "
   ]
  },
  {
   "cell_type": "code",
   "execution_count": 102,
   "metadata": {},
   "outputs": [
    {
     "data": {
      "text/plain": [
       "<MapDataset shapes: (), types: tf.string>"
      ]
     },
     "execution_count": 102,
     "metadata": {},
     "output_type": "execute_result"
    }
   ],
   "source": [
    "serialized_dataset = to_tfrecord(files)\n",
    "serialized_dataset"
   ]
  },
  {
   "cell_type": "code",
   "execution_count": 108,
   "metadata": {},
   "outputs": [
    {
     "name": "stdout",
     "output_type": "stream",
     "text": [
      "\n"
     ]
    },
    {
     "name": "stderr",
     "output_type": "stream",
     "text": [
      "/Users/jsimluken/.pyenv/versions/miniconda3-latest/lib/python3.6/site-packages/ipykernel_launcher.py:2: RuntimeWarning: Unexpected end-group tag: Not all data was converted\n",
      "  \n"
     ]
    }
   ],
   "source": [
    "for d in serialized_dataset.take(1):\n",
    "    example = tf.train.Example.FromString(d)\n",
    "    print(example)"
   ]
  },
  {
   "cell_type": "code",
   "execution_count": 110,
   "metadata": {},
   "outputs": [],
   "source": [
    "writer =  tf.data.experimental.TFRecordWriter('images.tfrec')\n",
    "writer.write(serialized_dataset)"
   ]
  },
  {
   "cell_type": "code",
   "execution_count": 111,
   "metadata": {},
   "outputs": [
    {
     "name": "stdout",
     "output_type": "stream",
     "text": [
      " 14M\timages.tfrec\n"
     ]
    }
   ],
   "source": [
    "!du -h images.tfrec"
   ]
  },
  {
   "cell_type": "code",
   "execution_count": 167,
   "metadata": {},
   "outputs": [],
   "source": [
    "@tf.function\n",
    "def load_tfrecord(path=\"images.tfrec\"):\n",
    "    dataset = tf.data.TFRecordDataset(path)\n",
    "    def _parse(example_proto):\n",
    "        feature_description = {\n",
    "            \"image\":tf.io.FixedLenFeature([], tf.string,),\n",
    "            \"id\":tf.io.FixedLenFeature([1], tf.float32, default_value=0.0),\n",
    "        }\n",
    "        example =  tf.io.parse_single_example(example_proto, feature_description)\n",
    "        return tf.image.decode_image(example[\"image\"]),example[\"id\"]\n",
    "    dataset = dataset.map(_parse)\n",
    "    return dataset"
   ]
  },
  {
   "cell_type": "code",
   "execution_count": 168,
   "metadata": {},
   "outputs": [
    {
     "data": {
      "text/plain": [
       "<_VariantDataset shapes: (<unknown>, (1,)), types: (tf.uint8, tf.float32)>"
      ]
     },
     "execution_count": 168,
     "metadata": {},
     "output_type": "execute_result"
    }
   ],
   "source": [
    "dataset = load_tfrecord()\n",
    "dataset"
   ]
  },
  {
   "cell_type": "code",
   "execution_count": 172,
   "metadata": {},
   "outputs": [
    {
     "name": "stdout",
     "output_type": "stream",
     "text": [
      "(400, 400, 3) tf.Tensor([58.], shape=(1,), dtype=float32)\n",
      "(1520, 1200, 3) tf.Tensor([1.], shape=(1,), dtype=float32)\n",
      "(1088, 727, 3) tf.Tensor([63.], shape=(1,), dtype=float32)\n",
      "(800, 1200, 3) tf.Tensor([46.], shape=(1,), dtype=float32)\n",
      "(381, 678, 3) tf.Tensor([60.], shape=(1,), dtype=float32)\n",
      "(556, 989, 3) tf.Tensor([70.], shape=(1,), dtype=float32)\n",
      "(383, 681, 3) tf.Tensor([64.], shape=(1,), dtype=float32)\n",
      "(599, 800, 3) tf.Tensor([40.], shape=(1,), dtype=float32)\n",
      "(683, 1024, 3) tf.Tensor([31.], shape=(1,), dtype=float32)\n",
      "(698, 1240, 3) tf.Tensor([2.], shape=(1,), dtype=float32)\n"
     ]
    }
   ],
   "source": [
    "for img,id_ in dataset.take(10):\n",
    "    print(img.shape,id_)"
   ]
  },
  {
   "cell_type": "code",
   "execution_count": null,
   "metadata": {},
   "outputs": [],
   "source": []
  }
 ],
 "metadata": {
  "kernelspec": {
   "display_name": "Python 3",
   "language": "python",
   "name": "python3"
  },
  "language_info": {
   "codemirror_mode": {
    "name": "ipython",
    "version": 3
   },
   "file_extension": ".py",
   "mimetype": "text/x-python",
   "name": "python",
   "nbconvert_exporter": "python",
   "pygments_lexer": "ipython3",
   "version": "3.6.8"
  }
 },
 "nbformat": 4,
 "nbformat_minor": 2
}
