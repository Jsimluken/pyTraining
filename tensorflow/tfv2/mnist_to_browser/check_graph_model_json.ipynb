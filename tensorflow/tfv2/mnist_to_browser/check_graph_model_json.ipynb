{
 "cells": [
  {
   "cell_type": "code",
   "execution_count": 1,
   "metadata": {},
   "outputs": [],
   "source": [
    "import json"
   ]
  },
  {
   "cell_type": "code",
   "execution_count": 2,
   "metadata": {},
   "outputs": [],
   "source": [
    "with open(\"model/web_model2/model.json\") as f:\n",
    "    model_json = json.load(f)"
   ]
  },
  {
   "cell_type": "code",
   "execution_count": 4,
   "metadata": {},
   "outputs": [
    {
     "data": {
      "text/plain": [
       "dict_keys(['format', 'generatedBy', 'convertedBy', 'userDefinedMetadata', 'modelTopology', 'weightsManifest'])"
      ]
     },
     "execution_count": 4,
     "metadata": {},
     "output_type": "execute_result"
    }
   ],
   "source": [
    "model_json.keys()"
   ]
  },
  {
   "cell_type": "code",
   "execution_count": 6,
   "metadata": {},
   "outputs": [
    {
     "data": {
      "text/plain": [
       "'graph-model'"
      ]
     },
     "execution_count": 6,
     "metadata": {},
     "output_type": "execute_result"
    }
   ],
   "source": [
    "model_json[\"format\"]"
   ]
  },
  {
   "cell_type": "code",
   "execution_count": 7,
   "metadata": {},
   "outputs": [
    {
     "data": {
      "text/plain": [
       "'1.15.0'"
      ]
     },
     "execution_count": 7,
     "metadata": {},
     "output_type": "execute_result"
    }
   ],
   "source": [
    "model_json[\"generatedBy\"]"
   ]
  },
  {
   "cell_type": "code",
   "execution_count": 8,
   "metadata": {},
   "outputs": [
    {
     "data": {
      "text/plain": [
       "'TensorFlow.js Converter v1.4.0'"
      ]
     },
     "execution_count": 8,
     "metadata": {},
     "output_type": "execute_result"
    }
   ],
   "source": [
    "model_json[\"convertedBy\"]"
   ]
  },
  {
   "cell_type": "code",
   "execution_count": 9,
   "metadata": {},
   "outputs": [
    {
     "data": {
      "text/plain": [
       "{'signature': {'inputs': {'input_1:0': {'name': 'input_1:0',\n",
       "    'dtype': 'DT_FLOAT',\n",
       "    'tensorShape': {'dim': [{'size': '-1'},\n",
       "      {'size': '28'},\n",
       "      {'size': '28'},\n",
       "      {'size': '1'}]}}},\n",
       "  'outputs': {'Identity:0': {'name': 'Identity:0',\n",
       "    'dtype': 'DT_FLOAT',\n",
       "    'tensorShape': {'dim': [{'size': '-1'}, {'size': '10'}]}}}}}"
      ]
     },
     "execution_count": 9,
     "metadata": {},
     "output_type": "execute_result"
    }
   ],
   "source": [
    "model_json[\"userDefinedMetadata\"]"
   ]
  },
  {
   "cell_type": "code",
   "execution_count": 11,
   "metadata": {},
   "outputs": [
    {
     "data": {
      "text/plain": [
       "dict_keys(['node', 'versions'])"
      ]
     },
     "execution_count": 11,
     "metadata": {},
     "output_type": "execute_result"
    }
   ],
   "source": [
    "model_json[\"modelTopology\"].keys()"
   ]
  },
  {
   "cell_type": "code",
   "execution_count": 15,
   "metadata": {},
   "outputs": [
    {
     "data": {
      "text/plain": [
       "{'name': 'input_1',\n",
       " 'op': 'Placeholder',\n",
       " 'attr': {'dtype': {'type': 'DT_FLOAT'},\n",
       "  'shape': {'shape': {'dim': [{'size': '-1'},\n",
       "     {'size': '28'},\n",
       "     {'size': '28'},\n",
       "     {'size': '1'}]}}}}"
      ]
     },
     "execution_count": 15,
     "metadata": {},
     "output_type": "execute_result"
    }
   ],
   "source": [
    "model_json[\"modelTopology\"][\"node\"][0]"
   ]
  },
  {
   "cell_type": "code",
   "execution_count": 16,
   "metadata": {},
   "outputs": [
    {
     "data": {
      "text/plain": [
       "{'name': 'StatefulPartitionedCall/model/conv2d/Conv2D/ReadVariableOp',\n",
       " 'op': 'Const',\n",
       " 'input': ['^input_1'],\n",
       " 'attr': {'value': {'tensor': {'dtype': 'DT_FLOAT',\n",
       "    'tensorShape': {'dim': [{'size': '5'},\n",
       "      {'size': '5'},\n",
       "      {'size': '1'},\n",
       "      {'size': '32'}]}}},\n",
       "  'dtype': {'type': 'DT_FLOAT'}}}"
      ]
     },
     "execution_count": 16,
     "metadata": {},
     "output_type": "execute_result"
    }
   ],
   "source": [
    "model_json[\"modelTopology\"][\"node\"][1]"
   ]
  },
  {
   "cell_type": "code",
   "execution_count": 17,
   "metadata": {},
   "outputs": [
    {
     "data": {
      "text/plain": [
       "{'name': 'StatefulPartitionedCall/model/conv2d/BiasAdd/ReadVariableOp',\n",
       " 'op': 'Const',\n",
       " 'input': ['^input_1'],\n",
       " 'attr': {'dtype': {'type': 'DT_FLOAT'},\n",
       "  'value': {'tensor': {'dtype': 'DT_FLOAT',\n",
       "    'tensorShape': {'dim': [{'size': '32'}]}}}}}"
      ]
     },
     "execution_count": 17,
     "metadata": {},
     "output_type": "execute_result"
    }
   ],
   "source": [
    "model_json[\"modelTopology\"][\"node\"][2]"
   ]
  },
  {
   "cell_type": "code",
   "execution_count": 18,
   "metadata": {},
   "outputs": [
    {
     "data": {
      "text/plain": [
       "{'name': 'StatefulPartitionedCall/model/conv2d_1/Conv2D/ReadVariableOp',\n",
       " 'op': 'Const',\n",
       " 'input': ['^input_1'],\n",
       " 'attr': {'value': {'tensor': {'dtype': 'DT_FLOAT',\n",
       "    'tensorShape': {'dim': [{'size': '5'},\n",
       "      {'size': '5'},\n",
       "      {'size': '32'},\n",
       "      {'size': '64'}]}}},\n",
       "  'dtype': {'type': 'DT_FLOAT'}}}"
      ]
     },
     "execution_count": 18,
     "metadata": {},
     "output_type": "execute_result"
    }
   ],
   "source": [
    "model_json[\"modelTopology\"][\"node\"][3]"
   ]
  },
  {
   "cell_type": "code",
   "execution_count": 21,
   "metadata": {},
   "outputs": [
    {
     "data": {
      "text/plain": [
       "{'name': 'StatefulPartitionedCall/model/flatten/Reshape',\n",
       " 'op': 'Reshape',\n",
       " 'input': ['StatefulPartitionedCall/model/max_pooling2d_2/MaxPool',\n",
       "  'StatefulPartitionedCall/model/flatten/Reshape/shape'],\n",
       " 'attr': {'T': {'type': 'DT_FLOAT'}, 'Tshape': {'type': 'DT_INT32'}}}"
      ]
     },
     "execution_count": 21,
     "metadata": {},
     "output_type": "execute_result"
    }
   ],
   "source": [
    "model_json[\"modelTopology\"][\"node\"][-4]"
   ]
  },
  {
   "cell_type": "code",
   "execution_count": 22,
   "metadata": {},
   "outputs": [
    {
     "data": {
      "text/plain": [
       "{'name': 'StatefulPartitionedCall/model/dense/BiasAdd',\n",
       " 'op': '_FusedMatMul',\n",
       " 'input': ['StatefulPartitionedCall/model/flatten/Reshape',\n",
       "  'StatefulPartitionedCall/model/dense/MatMul/ReadVariableOp',\n",
       "  'StatefulPartitionedCall/model/dense/BiasAdd/ReadVariableOp'],\n",
       " 'device': '/device:CPU:0',\n",
       " 'attr': {'T': {'type': 'DT_FLOAT'},\n",
       "  'num_args': {'i': '1'},\n",
       "  'epsilon': {'f': 0.0},\n",
       "  'fused_ops': {'list': {'s': ['Qmlhc0FkZA==']}},\n",
       "  'transpose_a': {'b': False},\n",
       "  'transpose_b': {'b': False}}}"
      ]
     },
     "execution_count": 22,
     "metadata": {},
     "output_type": "execute_result"
    }
   ],
   "source": [
    "model_json[\"modelTopology\"][\"node\"][-3]"
   ]
  },
  {
   "cell_type": "code",
   "execution_count": 23,
   "metadata": {},
   "outputs": [
    {
     "data": {
      "text/plain": [
       "{'name': 'StatefulPartitionedCall/model/dense/Softmax',\n",
       " 'op': 'Softmax',\n",
       " 'input': ['StatefulPartitionedCall/model/dense/BiasAdd'],\n",
       " 'attr': {'T': {'type': 'DT_FLOAT'}}}"
      ]
     },
     "execution_count": 23,
     "metadata": {},
     "output_type": "execute_result"
    }
   ],
   "source": [
    "model_json[\"modelTopology\"][\"node\"][-2]"
   ]
  },
  {
   "cell_type": "code",
   "execution_count": 24,
   "metadata": {},
   "outputs": [
    {
     "data": {
      "text/plain": [
       "{'name': 'Identity',\n",
       " 'op': 'Identity',\n",
       " 'input': ['StatefulPartitionedCall/model/dense/Softmax'],\n",
       " 'attr': {'T': {'type': 'DT_FLOAT'}}}"
      ]
     },
     "execution_count": 24,
     "metadata": {},
     "output_type": "execute_result"
    }
   ],
   "source": [
    "model_json[\"modelTopology\"][\"node\"][-1]"
   ]
  },
  {
   "cell_type": "code",
   "execution_count": 25,
   "metadata": {},
   "outputs": [
    {
     "data": {
      "text/plain": [
       "[{'paths': ['group1-shard1of1.bin'],\n",
       "  'weights': [{'name': 'StatefulPartitionedCall/model/conv2d/Conv2D/ReadVariableOp',\n",
       "    'shape': [5, 5, 1, 32],\n",
       "    'dtype': 'float32'},\n",
       "   {'name': 'StatefulPartitionedCall/model/conv2d/BiasAdd/ReadVariableOp',\n",
       "    'shape': [32],\n",
       "    'dtype': 'float32'},\n",
       "   {'name': 'StatefulPartitionedCall/model/conv2d_1/Conv2D/ReadVariableOp',\n",
       "    'shape': [5, 5, 32, 64],\n",
       "    'dtype': 'float32'},\n",
       "   {'name': 'StatefulPartitionedCall/model/conv2d_1/BiasAdd/ReadVariableOp',\n",
       "    'shape': [64],\n",
       "    'dtype': 'float32'},\n",
       "   {'name': 'StatefulPartitionedCall/model/batch_normalization/FusedBatchNormV3/Scaled',\n",
       "    'shape': [32],\n",
       "    'dtype': 'float32'},\n",
       "   {'name': 'StatefulPartitionedCall/model/conv2d_2/Conv2D/ReadVariableOp',\n",
       "    'shape': [5, 5, 64, 128],\n",
       "    'dtype': 'float32'},\n",
       "   {'name': 'StatefulPartitionedCall/model/conv2d_2/BiasAdd/ReadVariableOp',\n",
       "    'shape': [128],\n",
       "    'dtype': 'float32'},\n",
       "   {'name': 'StatefulPartitionedCall/model/flatten/strided_slice/stack',\n",
       "    'shape': [1],\n",
       "    'dtype': 'int32'},\n",
       "   {'name': 'StatefulPartitionedCall/model/flatten/strided_slice/stack_1',\n",
       "    'shape': [1],\n",
       "    'dtype': 'int32'},\n",
       "   {'name': 'StatefulPartitionedCall/model/flatten/Reshape/shape/1',\n",
       "    'shape': [],\n",
       "    'dtype': 'int32'},\n",
       "   {'name': 'StatefulPartitionedCall/model/dense/MatMul/ReadVariableOp',\n",
       "    'shape': [2048, 10],\n",
       "    'dtype': 'float32'},\n",
       "   {'name': 'StatefulPartitionedCall/model/batch_normalization/FusedBatchNormV3/Offset',\n",
       "    'shape': [32],\n",
       "    'dtype': 'float32'},\n",
       "   {'name': 'StatefulPartitionedCall/model/dense/BiasAdd/ReadVariableOp',\n",
       "    'shape': [10],\n",
       "    'dtype': 'float32'},\n",
       "   {'name': 'StatefulPartitionedCall/model/batch_normalization_2/FusedBatchNormV3/Scaled',\n",
       "    'shape': [128],\n",
       "    'dtype': 'float32'},\n",
       "   {'name': 'StatefulPartitionedCall/model/batch_normalization_2/FusedBatchNormV3/Offset',\n",
       "    'shape': [128],\n",
       "    'dtype': 'float32'},\n",
       "   {'name': 'StatefulPartitionedCall/model/batch_normalization_1/FusedBatchNormV3/Scaled',\n",
       "    'shape': [64],\n",
       "    'dtype': 'float32'},\n",
       "   {'name': 'StatefulPartitionedCall/model/batch_normalization_1/FusedBatchNormV3/Offset',\n",
       "    'shape': [64],\n",
       "    'dtype': 'float32'}]}]"
      ]
     },
     "execution_count": 25,
     "metadata": {},
     "output_type": "execute_result"
    }
   ],
   "source": [
    "model_json[\"weightsManifest\"]"
   ]
  },
  {
   "cell_type": "code",
   "execution_count": null,
   "metadata": {},
   "outputs": [],
   "source": []
  }
 ],
 "metadata": {
  "kernelspec": {
   "display_name": "Python 3",
   "language": "python",
   "name": "python3"
  },
  "language_info": {
   "codemirror_mode": {
    "name": "ipython",
    "version": 3
   },
   "file_extension": ".py",
   "mimetype": "text/x-python",
   "name": "python",
   "nbconvert_exporter": "python",
   "pygments_lexer": "ipython3",
   "version": "3.6.8"
  }
 },
 "nbformat": 4,
 "nbformat_minor": 2
}
