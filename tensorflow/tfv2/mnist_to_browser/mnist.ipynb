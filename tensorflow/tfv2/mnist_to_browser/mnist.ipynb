{
 "cells": [
  {
   "cell_type": "code",
   "execution_count": 20,
   "metadata": {},
   "outputs": [],
   "source": [
    "import tensorflow as tf\n",
    "from tensorflow.keras.layers import Input,Conv2D,Dense,Flatten,BatchNormalization,MaxPool2D\n",
    "from tensorflow.keras.models import Model\n",
    "import numpy as np\n",
    "import matplotlib.pyplot as plt\n",
    "import tqdm\n",
    "import cv2"
   ]
  },
  {
   "cell_type": "code",
   "execution_count": 2,
   "metadata": {},
   "outputs": [
    {
     "data": {
      "text/plain": [
       "'2.0.0'"
      ]
     },
     "execution_count": 2,
     "metadata": {},
     "output_type": "execute_result"
    }
   ],
   "source": [
    "tf.__version__"
   ]
  },
  {
   "cell_type": "code",
   "execution_count": 3,
   "metadata": {},
   "outputs": [],
   "source": [
    "def make_model():\n",
    "    input_ = Input((28,28,1))\n",
    "    x = Conv2D(32,5,padding=\"same\",activation=\"relu\")(input_)\n",
    "    x = BatchNormalization()(x)\n",
    "    x = MaxPool2D(padding=\"same\")(x)\n",
    "    x = Conv2D(64,5,padding=\"same\",activation=\"relu\")(x)\n",
    "    x = BatchNormalization()(x)\n",
    "    x = MaxPool2D(padding=\"same\")(x)\n",
    "    x = Conv2D(128,5,padding=\"same\",activation=\"relu\")(x)\n",
    "    x = BatchNormalization()(x)\n",
    "    x = MaxPool2D(padding=\"same\")(x)\n",
    "    x = Flatten()(x)\n",
    "    x = Dense(10,\"softmax\")(x)\n",
    "    model = Model(input_,x)\n",
    "    return model"
   ]
  },
  {
   "cell_type": "code",
   "execution_count": 4,
   "metadata": {},
   "outputs": [],
   "source": [
    "model = make_model()"
   ]
  },
  {
   "cell_type": "code",
   "execution_count": 18,
   "metadata": {},
   "outputs": [
    {
     "name": "stdout",
     "output_type": "stream",
     "text": [
      "Model: \"model\"\n",
      "_________________________________________________________________\n",
      "Layer (type)                 Output Shape              Param #   \n",
      "=================================================================\n",
      "input_3 (InputLayer)         [(None, 28, 28, 1)]       0         \n",
      "_________________________________________________________________\n",
      "conv2d (Conv2D)              (None, 28, 28, 32)        832       \n",
      "_________________________________________________________________\n",
      "batch_normalization (BatchNo (None, 28, 28, 32)        128       \n",
      "_________________________________________________________________\n",
      "max_pooling2d (MaxPooling2D) (None, 14, 14, 32)        0         \n",
      "_________________________________________________________________\n",
      "conv2d_1 (Conv2D)            (None, 14, 14, 64)        51264     \n",
      "_________________________________________________________________\n",
      "batch_normalization_1 (Batch (None, 14, 14, 64)        256       \n",
      "_________________________________________________________________\n",
      "max_pooling2d_1 (MaxPooling2 (None, 7, 7, 64)          0         \n",
      "_________________________________________________________________\n",
      "conv2d_2 (Conv2D)            (None, 7, 7, 128)         204928    \n",
      "_________________________________________________________________\n",
      "batch_normalization_2 (Batch (None, 7, 7, 128)         512       \n",
      "_________________________________________________________________\n",
      "max_pooling2d_2 (MaxPooling2 (None, 4, 4, 128)         0         \n",
      "_________________________________________________________________\n",
      "flatten (Flatten)            (None, 2048)              0         \n",
      "_________________________________________________________________\n",
      "dense (Dense)                (None, 10)                20490     \n",
      "=================================================================\n",
      "Total params: 278,410\n",
      "Trainable params: 277,962\n",
      "Non-trainable params: 448\n",
      "_________________________________________________________________\n"
     ]
    }
   ],
   "source": [
    "model.summary()"
   ]
  },
  {
   "cell_type": "code",
   "execution_count": 5,
   "metadata": {},
   "outputs": [],
   "source": [
    "(X_train,y_train),(X_test,y_test) = tf.keras.datasets.mnist.load_data()"
   ]
  },
  {
   "cell_type": "code",
   "execution_count": 7,
   "metadata": {},
   "outputs": [
    {
     "data": {
      "text/plain": [
       "<MapDataset shapes: ((28, 28, 1), (1,)), types: (tf.float32, tf.float32)>"
      ]
     },
     "execution_count": 7,
     "metadata": {},
     "output_type": "execute_result"
    }
   ],
   "source": [
    "def make_dataset(X,y):\n",
    "    \n",
    "    def preprocess(X,y):\n",
    "        #return tf.expand_dims((X - 127.5)/128,3),tf.expand_dims(y,1)\n",
    "        X = tf.cast(X,\"float32\")\n",
    "        y = tf.cast(y,\"float32\")\n",
    "        return tf.expand_dims((X - 127.5)/128,2),tf.expand_dims(y,0)\n",
    "    dataset = tf.data.Dataset.from_tensor_slices((X,y))\n",
    "    dataset = dataset.map(preprocess)\n",
    "    \n",
    "    return dataset\n",
    "train_dataset = make_dataset(X_train,y_train)\n",
    "train_dataset"
   ]
  },
  {
   "cell_type": "code",
   "execution_count": 16,
   "metadata": {},
   "outputs": [
    {
     "name": "stderr",
     "output_type": "stream",
     "text": [
      "469it [02:10,  3.59it/s, loss=0.0507, acc=0.983]\n"
     ]
    }
   ],
   "source": [
    "step = 1\n",
    "train_dataset = make_dataset(X_train,y_train)\n",
    "train_dataset = train_dataset.shuffle(buffer_size=1000,reshuffle_each_iteration=True)\n",
    "train_dataset = train_dataset.batch(128)\n",
    "\n",
    "optim = tf.optimizers.Adam()\n",
    "loss_fun = tf.losses.SparseCategoricalCrossentropy()\n",
    "acc = tf.metrics.SparseCategoricalAccuracy()\n",
    "\n",
    "@tf.function\n",
    "def train_on_batch(X,y):\n",
    "    with tf.GradientTape() as tape:\n",
    "        pred = model(X)\n",
    "        loss_val = loss_fun(y,pred)\n",
    "    gradients = tape.gradient(loss_val, model.trainable_weights)\n",
    "    optim.apply_gradients(zip(gradients, model.trainable_weights))\n",
    "    acc.update_state(y,pred)\n",
    "    return loss_val\n",
    "\n",
    "with tqdm.tqdm(train_dataset) as pbar:\n",
    "    acc.reset_states()\n",
    "    for i,(X,y) in enumerate(pbar):\n",
    "        loss = train_on_batch(X,y)\n",
    "        pbar.set_postfix({\n",
    "            \"loss\":loss.numpy(),\n",
    "            \"acc\":acc.result().numpy()\n",
    "        })"
   ]
  },
  {
   "cell_type": "code",
   "execution_count": 17,
   "metadata": {},
   "outputs": [],
   "source": [
    "model.save(\"model/tiny_mnist.h5\")"
   ]
  },
  {
   "cell_type": "code",
   "execution_count": 25,
   "metadata": {},
   "outputs": [
    {
     "data": {
      "text/plain": [
       "True"
      ]
     },
     "execution_count": 25,
     "metadata": {},
     "output_type": "execute_result"
    }
   ],
   "source": [
    "cv2.imwrite(\"mnist1.png\",X_train[0])"
   ]
  },
  {
   "cell_type": "code",
   "execution_count": null,
   "metadata": {},
   "outputs": [],
   "source": []
  }
 ],
 "metadata": {
  "kernelspec": {
   "display_name": "Python 3",
   "language": "python",
   "name": "python3"
  },
  "language_info": {
   "codemirror_mode": {
    "name": "ipython",
    "version": 3
   },
   "file_extension": ".py",
   "mimetype": "text/x-python",
   "name": "python",
   "nbconvert_exporter": "python",
   "pygments_lexer": "ipython3",
   "version": "3.6.8"
  }
 },
 "nbformat": 4,
 "nbformat_minor": 2
}
