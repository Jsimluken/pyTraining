{
 "cells": [
  {
   "cell_type": "code",
   "execution_count": 1,
   "metadata": {},
   "outputs": [],
   "source": [
    "import json"
   ]
  },
  {
   "cell_type": "code",
   "execution_count": 2,
   "metadata": {},
   "outputs": [],
   "source": [
    "with open(\"model/web_model/model.json\") as f:\n",
    "    model_json = json.load(f)"
   ]
  },
  {
   "cell_type": "code",
   "execution_count": 3,
   "metadata": {},
   "outputs": [
    {
     "data": {
      "text/plain": [
       "dict_keys(['format', 'generatedBy', 'convertedBy', 'modelTopology', 'weightsManifest'])"
      ]
     },
     "execution_count": 3,
     "metadata": {},
     "output_type": "execute_result"
    }
   ],
   "source": [
    "model_json.keys()"
   ]
  },
  {
   "cell_type": "code",
   "execution_count": 4,
   "metadata": {},
   "outputs": [
    {
     "data": {
      "text/plain": [
       "'layers-model'"
      ]
     },
     "execution_count": 4,
     "metadata": {},
     "output_type": "execute_result"
    }
   ],
   "source": [
    "model_json[\"format\"]"
   ]
  },
  {
   "cell_type": "code",
   "execution_count": 5,
   "metadata": {},
   "outputs": [
    {
     "data": {
      "text/plain": [
       "'keras v2.2.4-tf'"
      ]
     },
     "execution_count": 5,
     "metadata": {},
     "output_type": "execute_result"
    }
   ],
   "source": [
    "model_json[\"generatedBy\"]"
   ]
  },
  {
   "cell_type": "code",
   "execution_count": 6,
   "metadata": {},
   "outputs": [
    {
     "data": {
      "text/plain": [
       "'TensorFlow.js Converter v1.4.0'"
      ]
     },
     "execution_count": 6,
     "metadata": {},
     "output_type": "execute_result"
    }
   ],
   "source": [
    "model_json[\"convertedBy\"]"
   ]
  },
  {
   "cell_type": "code",
   "execution_count": 8,
   "metadata": {},
   "outputs": [
    {
     "data": {
      "text/plain": [
       "dict_keys(['keras_version', 'backend', 'model_config'])"
      ]
     },
     "execution_count": 8,
     "metadata": {},
     "output_type": "execute_result"
    }
   ],
   "source": [
    "model_json[\"modelTopology\"].keys()"
   ]
  },
  {
   "cell_type": "code",
   "execution_count": 9,
   "metadata": {},
   "outputs": [
    {
     "data": {
      "text/plain": [
       "'2.2.4-tf'"
      ]
     },
     "execution_count": 9,
     "metadata": {},
     "output_type": "execute_result"
    }
   ],
   "source": [
    "model_json[\"modelTopology\"][\"keras_version\"]"
   ]
  },
  {
   "cell_type": "code",
   "execution_count": 10,
   "metadata": {},
   "outputs": [
    {
     "data": {
      "text/plain": [
       "'tensorflow'"
      ]
     },
     "execution_count": 10,
     "metadata": {},
     "output_type": "execute_result"
    }
   ],
   "source": [
    "model_json[\"modelTopology\"][\"backend\"]"
   ]
  },
  {
   "cell_type": "code",
   "execution_count": 12,
   "metadata": {},
   "outputs": [
    {
     "data": {
      "text/plain": [
       "dict_keys(['class_name', 'config'])"
      ]
     },
     "execution_count": 12,
     "metadata": {},
     "output_type": "execute_result"
    }
   ],
   "source": [
    "model_json[\"modelTopology\"][\"model_config\"].keys()"
   ]
  },
  {
   "cell_type": "code",
   "execution_count": 13,
   "metadata": {},
   "outputs": [
    {
     "data": {
      "text/plain": [
       "'Model'"
      ]
     },
     "execution_count": 13,
     "metadata": {},
     "output_type": "execute_result"
    }
   ],
   "source": [
    "model_json[\"modelTopology\"][\"model_config\"][\"class_name\"]"
   ]
  },
  {
   "cell_type": "code",
   "execution_count": 15,
   "metadata": {},
   "outputs": [
    {
     "data": {
      "text/plain": [
       "dict_keys(['name', 'layers', 'input_layers', 'output_layers'])"
      ]
     },
     "execution_count": 15,
     "metadata": {},
     "output_type": "execute_result"
    }
   ],
   "source": [
    "model_json[\"modelTopology\"][\"model_config\"][\"config\"].keys()"
   ]
  },
  {
   "cell_type": "code",
   "execution_count": 16,
   "metadata": {},
   "outputs": [
    {
     "data": {
      "text/plain": [
       "'model'"
      ]
     },
     "execution_count": 16,
     "metadata": {},
     "output_type": "execute_result"
    }
   ],
   "source": [
    "model_json[\"modelTopology\"][\"model_config\"][\"config\"][\"name\"]"
   ]
  },
  {
   "cell_type": "code",
   "execution_count": 17,
   "metadata": {},
   "outputs": [
    {
     "data": {
      "text/plain": [
       "[['input_1', 0, 0]]"
      ]
     },
     "execution_count": 17,
     "metadata": {},
     "output_type": "execute_result"
    }
   ],
   "source": [
    "model_json[\"modelTopology\"][\"model_config\"][\"config\"][\"input_layers\"]"
   ]
  },
  {
   "cell_type": "code",
   "execution_count": 18,
   "metadata": {},
   "outputs": [
    {
     "data": {
      "text/plain": [
       "[['dense', 0, 0]]"
      ]
     },
     "execution_count": 18,
     "metadata": {},
     "output_type": "execute_result"
    }
   ],
   "source": [
    "model_json[\"modelTopology\"][\"model_config\"][\"config\"][\"output_layers\"]"
   ]
  },
  {
   "cell_type": "code",
   "execution_count": 20,
   "metadata": {},
   "outputs": [
    {
     "data": {
      "text/plain": [
       "{'class_name': 'InputLayer',\n",
       " 'config': {'batch_input_shape': [None, 28, 28, 1],\n",
       "  'dtype': 'float32',\n",
       "  'sparse': False,\n",
       "  'name': 'input_1'},\n",
       " 'name': 'input_1',\n",
       " 'inbound_nodes': []}"
      ]
     },
     "execution_count": 20,
     "metadata": {},
     "output_type": "execute_result"
    }
   ],
   "source": [
    "model_json[\"modelTopology\"][\"model_config\"][\"config\"][\"layers\"][0]"
   ]
  },
  {
   "cell_type": "code",
   "execution_count": 21,
   "metadata": {},
   "outputs": [
    {
     "data": {
      "text/plain": [
       "{'class_name': 'Conv2D',\n",
       " 'config': {'name': 'conv2d',\n",
       "  'trainable': True,\n",
       "  'dtype': 'float32',\n",
       "  'filters': 32,\n",
       "  'kernel_size': [5, 5],\n",
       "  'strides': [1, 1],\n",
       "  'padding': 'same',\n",
       "  'data_format': 'channels_last',\n",
       "  'dilation_rate': [1, 1],\n",
       "  'activation': 'relu',\n",
       "  'use_bias': True,\n",
       "  'kernel_initializer': {'class_name': 'GlorotUniform',\n",
       "   'config': {'seed': None}},\n",
       "  'bias_initializer': {'class_name': 'Zeros', 'config': {}},\n",
       "  'kernel_regularizer': None,\n",
       "  'bias_regularizer': None,\n",
       "  'activity_regularizer': None,\n",
       "  'kernel_constraint': None,\n",
       "  'bias_constraint': None},\n",
       " 'name': 'conv2d',\n",
       " 'inbound_nodes': [[['input_1', 0, 0, {}]]]}"
      ]
     },
     "execution_count": 21,
     "metadata": {},
     "output_type": "execute_result"
    }
   ],
   "source": [
    "model_json[\"modelTopology\"][\"model_config\"][\"config\"][\"layers\"][1]"
   ]
  },
  {
   "cell_type": "code",
   "execution_count": 22,
   "metadata": {},
   "outputs": [
    {
     "data": {
      "text/plain": [
       "{'class_name': 'Flatten',\n",
       " 'config': {'name': 'flatten',\n",
       "  'trainable': True,\n",
       "  'dtype': 'float32',\n",
       "  'data_format': 'channels_last'},\n",
       " 'name': 'flatten',\n",
       " 'inbound_nodes': [[['max_pooling2d_2', 0, 0, {}]]]}"
      ]
     },
     "execution_count": 22,
     "metadata": {},
     "output_type": "execute_result"
    }
   ],
   "source": [
    "model_json[\"modelTopology\"][\"model_config\"][\"config\"][\"layers\"][-2]"
   ]
  },
  {
   "cell_type": "code",
   "execution_count": 23,
   "metadata": {},
   "outputs": [
    {
     "data": {
      "text/plain": [
       "{'class_name': 'Dense',\n",
       " 'config': {'name': 'dense',\n",
       "  'trainable': True,\n",
       "  'dtype': 'float32',\n",
       "  'units': 10,\n",
       "  'activation': 'softmax',\n",
       "  'use_bias': True,\n",
       "  'kernel_initializer': {'class_name': 'GlorotUniform',\n",
       "   'config': {'seed': None}},\n",
       "  'bias_initializer': {'class_name': 'Zeros', 'config': {}},\n",
       "  'kernel_regularizer': None,\n",
       "  'bias_regularizer': None,\n",
       "  'activity_regularizer': None,\n",
       "  'kernel_constraint': None,\n",
       "  'bias_constraint': None},\n",
       " 'name': 'dense',\n",
       " 'inbound_nodes': [[['flatten', 0, 0, {}]]]}"
      ]
     },
     "execution_count": 23,
     "metadata": {},
     "output_type": "execute_result"
    }
   ],
   "source": [
    "model_json[\"modelTopology\"][\"model_config\"][\"config\"][\"layers\"][-1]"
   ]
  },
  {
   "cell_type": "code",
   "execution_count": 24,
   "metadata": {},
   "outputs": [
    {
     "data": {
      "text/plain": [
       "[{'paths': ['group1-shard1of1.bin'],\n",
       "  'weights': [{'name': 'batch_normalization/gamma',\n",
       "    'shape': [32],\n",
       "    'dtype': 'float32'},\n",
       "   {'name': 'batch_normalization/beta', 'shape': [32], 'dtype': 'float32'},\n",
       "   {'name': 'batch_normalization/moving_mean',\n",
       "    'shape': [32],\n",
       "    'dtype': 'float32'},\n",
       "   {'name': 'batch_normalization/moving_variance',\n",
       "    'shape': [32],\n",
       "    'dtype': 'float32'},\n",
       "   {'name': 'batch_normalization_1/gamma', 'shape': [64], 'dtype': 'float32'},\n",
       "   {'name': 'batch_normalization_1/beta', 'shape': [64], 'dtype': 'float32'},\n",
       "   {'name': 'batch_normalization_1/moving_mean',\n",
       "    'shape': [64],\n",
       "    'dtype': 'float32'},\n",
       "   {'name': 'batch_normalization_1/moving_variance',\n",
       "    'shape': [64],\n",
       "    'dtype': 'float32'},\n",
       "   {'name': 'batch_normalization_2/gamma', 'shape': [128], 'dtype': 'float32'},\n",
       "   {'name': 'batch_normalization_2/beta', 'shape': [128], 'dtype': 'float32'},\n",
       "   {'name': 'batch_normalization_2/moving_mean',\n",
       "    'shape': [128],\n",
       "    'dtype': 'float32'},\n",
       "   {'name': 'batch_normalization_2/moving_variance',\n",
       "    'shape': [128],\n",
       "    'dtype': 'float32'},\n",
       "   {'name': 'conv2d/kernel', 'shape': [5, 5, 1, 32], 'dtype': 'float32'},\n",
       "   {'name': 'conv2d/bias', 'shape': [32], 'dtype': 'float32'},\n",
       "   {'name': 'conv2d_1/kernel', 'shape': [5, 5, 32, 64], 'dtype': 'float32'},\n",
       "   {'name': 'conv2d_1/bias', 'shape': [64], 'dtype': 'float32'},\n",
       "   {'name': 'conv2d_2/kernel', 'shape': [5, 5, 64, 128], 'dtype': 'float32'},\n",
       "   {'name': 'conv2d_2/bias', 'shape': [128], 'dtype': 'float32'},\n",
       "   {'name': 'dense/kernel', 'shape': [2048, 10], 'dtype': 'float32'},\n",
       "   {'name': 'dense/bias', 'shape': [10], 'dtype': 'float32'}]}]"
      ]
     },
     "execution_count": 24,
     "metadata": {},
     "output_type": "execute_result"
    }
   ],
   "source": [
    "model_json[\"weightsManifest\"]"
   ]
  },
  {
   "cell_type": "code",
   "execution_count": null,
   "metadata": {},
   "outputs": [],
   "source": []
  }
 ],
 "metadata": {
  "kernelspec": {
   "display_name": "Python 3",
   "language": "python",
   "name": "python3"
  },
  "language_info": {
   "codemirror_mode": {
    "name": "ipython",
    "version": 3
   },
   "file_extension": ".py",
   "mimetype": "text/x-python",
   "name": "python",
   "nbconvert_exporter": "python",
   "pygments_lexer": "ipython3",
   "version": "3.6.8"
  }
 },
 "nbformat": 4,
 "nbformat_minor": 2
}
