{
  "nbformat": 4,
  "nbformat_minor": 0,
  "metadata": {
    "colab": {
      "name": "GANmnist.ipynb",
      "provenance": [],
      "collapsed_sections": []
    },
    "kernelspec": {
      "name": "python3",
      "display_name": "Python 3"
    },
    "accelerator": "TPU"
  },
  "cells": [
    {
      "cell_type": "code",
      "metadata": {
        "id": "6ac3G1ZuELBx",
        "colab_type": "code",
        "colab": {
          "base_uri": "https://localhost:8080/",
          "height": 102
        },
        "outputId": "66d80663-950c-4de4-da47-92d95aede6ce"
      },
      "source": [
        "%tensorflow_version 2.0\n",
        "import tensorflow as tf\n",
        "from tensorflow.keras.layers import Conv2D,Input, Flatten,Dense,BatchNormalization,MaxPool2D,Reshape,Conv2DTranspose,LeakyReLU,Dropout\n",
        "from tensorflow.keras.models import Model\n",
        "import os\n",
        "import numpy as np\n",
        "import tqdm\n",
        "import matplotlib.pyplot as plt"
      ],
      "execution_count": 1,
      "outputs": [
        {
          "output_type": "stream",
          "text": [
            "`%tensorflow_version` only switches the major version: `1.x` or `2.x`.\n",
            "You set: `2.0`. This will be interpreted as: `2.x`.\n",
            "\n",
            "\n",
            "TensorFlow 2.x selected.\n"
          ],
          "name": "stdout"
        }
      ]
    },
    {
      "cell_type": "code",
      "metadata": {
        "id": "H-ovqG4-EaEf",
        "colab_type": "code",
        "colab": {
          "base_uri": "https://localhost:8080/",
          "height": 697
        },
        "outputId": "575c7158-6e20-4b78-e12f-2ef7e9cbbe42"
      },
      "source": [
        "tpu_grpc_url = \"grpc://\" + os.environ[\"COLAB_TPU_ADDR\"]\n",
        "tpu_cluster_resolver = tf.distribute.cluster_resolver.TPUClusterResolver(tpu_grpc_url)\n",
        "tf.config.experimental_connect_to_cluster(tpu_cluster_resolver)\n",
        "tf.tpu.experimental.initialize_tpu_system(tpu_cluster_resolver)    \n",
        "strategy = tf.distribute.experimental.TPUStrategy(tpu_cluster_resolver)  "
      ],
      "execution_count": 2,
      "outputs": [
        {
          "output_type": "stream",
          "text": [
            "INFO:tensorflow:Initializing the TPU system: 10.103.115.234:8470\n"
          ],
          "name": "stdout"
        },
        {
          "output_type": "stream",
          "text": [
            "INFO:tensorflow:Initializing the TPU system: 10.103.115.234:8470\n"
          ],
          "name": "stderr"
        },
        {
          "output_type": "stream",
          "text": [
            "INFO:tensorflow:Clearing out eager caches\n"
          ],
          "name": "stdout"
        },
        {
          "output_type": "stream",
          "text": [
            "INFO:tensorflow:Clearing out eager caches\n"
          ],
          "name": "stderr"
        },
        {
          "output_type": "stream",
          "text": [
            "INFO:tensorflow:Finished initializing TPU system.\n"
          ],
          "name": "stdout"
        },
        {
          "output_type": "stream",
          "text": [
            "INFO:tensorflow:Finished initializing TPU system.\n"
          ],
          "name": "stderr"
        },
        {
          "output_type": "stream",
          "text": [
            "INFO:tensorflow:Found TPU system:\n"
          ],
          "name": "stdout"
        },
        {
          "output_type": "stream",
          "text": [
            "INFO:tensorflow:Found TPU system:\n"
          ],
          "name": "stderr"
        },
        {
          "output_type": "stream",
          "text": [
            "INFO:tensorflow:*** Num TPU Cores: 8\n"
          ],
          "name": "stdout"
        },
        {
          "output_type": "stream",
          "text": [
            "INFO:tensorflow:*** Num TPU Cores: 8\n"
          ],
          "name": "stderr"
        },
        {
          "output_type": "stream",
          "text": [
            "INFO:tensorflow:*** Num TPU Workers: 1\n"
          ],
          "name": "stdout"
        },
        {
          "output_type": "stream",
          "text": [
            "INFO:tensorflow:*** Num TPU Workers: 1\n"
          ],
          "name": "stderr"
        },
        {
          "output_type": "stream",
          "text": [
            "INFO:tensorflow:*** Num TPU Cores Per Worker: 8\n"
          ],
          "name": "stdout"
        },
        {
          "output_type": "stream",
          "text": [
            "INFO:tensorflow:*** Num TPU Cores Per Worker: 8\n"
          ],
          "name": "stderr"
        },
        {
          "output_type": "stream",
          "text": [
            "INFO:tensorflow:*** Available Device: _DeviceAttributes(/job:localhost/replica:0/task:0/device:CPU:0, CPU, 0, 0)\n"
          ],
          "name": "stdout"
        },
        {
          "output_type": "stream",
          "text": [
            "INFO:tensorflow:*** Available Device: _DeviceAttributes(/job:localhost/replica:0/task:0/device:CPU:0, CPU, 0, 0)\n"
          ],
          "name": "stderr"
        },
        {
          "output_type": "stream",
          "text": [
            "INFO:tensorflow:*** Available Device: _DeviceAttributes(/job:localhost/replica:0/task:0/device:XLA_CPU:0, XLA_CPU, 0, 0)\n"
          ],
          "name": "stdout"
        },
        {
          "output_type": "stream",
          "text": [
            "INFO:tensorflow:*** Available Device: _DeviceAttributes(/job:localhost/replica:0/task:0/device:XLA_CPU:0, XLA_CPU, 0, 0)\n"
          ],
          "name": "stderr"
        },
        {
          "output_type": "stream",
          "text": [
            "INFO:tensorflow:*** Available Device: _DeviceAttributes(/job:worker/replica:0/task:0/device:CPU:0, CPU, 0, 0)\n"
          ],
          "name": "stdout"
        },
        {
          "output_type": "stream",
          "text": [
            "INFO:tensorflow:*** Available Device: _DeviceAttributes(/job:worker/replica:0/task:0/device:CPU:0, CPU, 0, 0)\n"
          ],
          "name": "stderr"
        },
        {
          "output_type": "stream",
          "text": [
            "INFO:tensorflow:*** Available Device: _DeviceAttributes(/job:worker/replica:0/task:0/device:TPU:0, TPU, 0, 0)\n"
          ],
          "name": "stdout"
        },
        {
          "output_type": "stream",
          "text": [
            "INFO:tensorflow:*** Available Device: _DeviceAttributes(/job:worker/replica:0/task:0/device:TPU:0, TPU, 0, 0)\n"
          ],
          "name": "stderr"
        },
        {
          "output_type": "stream",
          "text": [
            "INFO:tensorflow:*** Available Device: _DeviceAttributes(/job:worker/replica:0/task:0/device:TPU:1, TPU, 0, 0)\n"
          ],
          "name": "stdout"
        },
        {
          "output_type": "stream",
          "text": [
            "INFO:tensorflow:*** Available Device: _DeviceAttributes(/job:worker/replica:0/task:0/device:TPU:1, TPU, 0, 0)\n"
          ],
          "name": "stderr"
        },
        {
          "output_type": "stream",
          "text": [
            "INFO:tensorflow:*** Available Device: _DeviceAttributes(/job:worker/replica:0/task:0/device:TPU:2, TPU, 0, 0)\n"
          ],
          "name": "stdout"
        },
        {
          "output_type": "stream",
          "text": [
            "INFO:tensorflow:*** Available Device: _DeviceAttributes(/job:worker/replica:0/task:0/device:TPU:2, TPU, 0, 0)\n"
          ],
          "name": "stderr"
        },
        {
          "output_type": "stream",
          "text": [
            "INFO:tensorflow:*** Available Device: _DeviceAttributes(/job:worker/replica:0/task:0/device:TPU:3, TPU, 0, 0)\n"
          ],
          "name": "stdout"
        },
        {
          "output_type": "stream",
          "text": [
            "INFO:tensorflow:*** Available Device: _DeviceAttributes(/job:worker/replica:0/task:0/device:TPU:3, TPU, 0, 0)\n"
          ],
          "name": "stderr"
        },
        {
          "output_type": "stream",
          "text": [
            "INFO:tensorflow:*** Available Device: _DeviceAttributes(/job:worker/replica:0/task:0/device:TPU:4, TPU, 0, 0)\n"
          ],
          "name": "stdout"
        },
        {
          "output_type": "stream",
          "text": [
            "INFO:tensorflow:*** Available Device: _DeviceAttributes(/job:worker/replica:0/task:0/device:TPU:4, TPU, 0, 0)\n"
          ],
          "name": "stderr"
        },
        {
          "output_type": "stream",
          "text": [
            "INFO:tensorflow:*** Available Device: _DeviceAttributes(/job:worker/replica:0/task:0/device:TPU:5, TPU, 0, 0)\n"
          ],
          "name": "stdout"
        },
        {
          "output_type": "stream",
          "text": [
            "INFO:tensorflow:*** Available Device: _DeviceAttributes(/job:worker/replica:0/task:0/device:TPU:5, TPU, 0, 0)\n"
          ],
          "name": "stderr"
        },
        {
          "output_type": "stream",
          "text": [
            "INFO:tensorflow:*** Available Device: _DeviceAttributes(/job:worker/replica:0/task:0/device:TPU:6, TPU, 0, 0)\n"
          ],
          "name": "stdout"
        },
        {
          "output_type": "stream",
          "text": [
            "INFO:tensorflow:*** Available Device: _DeviceAttributes(/job:worker/replica:0/task:0/device:TPU:6, TPU, 0, 0)\n"
          ],
          "name": "stderr"
        },
        {
          "output_type": "stream",
          "text": [
            "INFO:tensorflow:*** Available Device: _DeviceAttributes(/job:worker/replica:0/task:0/device:TPU:7, TPU, 0, 0)\n"
          ],
          "name": "stdout"
        },
        {
          "output_type": "stream",
          "text": [
            "INFO:tensorflow:*** Available Device: _DeviceAttributes(/job:worker/replica:0/task:0/device:TPU:7, TPU, 0, 0)\n"
          ],
          "name": "stderr"
        },
        {
          "output_type": "stream",
          "text": [
            "INFO:tensorflow:*** Available Device: _DeviceAttributes(/job:worker/replica:0/task:0/device:TPU_SYSTEM:0, TPU_SYSTEM, 0, 0)\n"
          ],
          "name": "stdout"
        },
        {
          "output_type": "stream",
          "text": [
            "INFO:tensorflow:*** Available Device: _DeviceAttributes(/job:worker/replica:0/task:0/device:TPU_SYSTEM:0, TPU_SYSTEM, 0, 0)\n"
          ],
          "name": "stderr"
        },
        {
          "output_type": "stream",
          "text": [
            "INFO:tensorflow:*** Available Device: _DeviceAttributes(/job:worker/replica:0/task:0/device:XLA_CPU:0, XLA_CPU, 0, 0)\n"
          ],
          "name": "stdout"
        },
        {
          "output_type": "stream",
          "text": [
            "INFO:tensorflow:*** Available Device: _DeviceAttributes(/job:worker/replica:0/task:0/device:XLA_CPU:0, XLA_CPU, 0, 0)\n"
          ],
          "name": "stderr"
        }
      ]
    },
    {
      "cell_type": "code",
      "metadata": {
        "id": "Dq0Ag0B6Eq1z",
        "colab_type": "code",
        "colab": {}
      },
      "source": [
        "(X_train,y_train),(X_test,y_test) = tf.keras.datasets.mnist.load_data()"
      ],
      "execution_count": 0,
      "outputs": []
    },
    {
      "cell_type": "code",
      "metadata": {
        "id": "7VYhtZhBEzJO",
        "colab_type": "code",
        "colab": {
          "base_uri": "https://localhost:8080/",
          "height": 34
        },
        "outputId": "65b6a858-6c84-4d1d-fc46-864736879df3"
      },
      "source": [
        "def make_dataset(X,y):\n",
        "    \n",
        "    def preprocess(X,y):\n",
        "        #return tf.expand_dims((X - 127.5)/128,3),tf.expand_dims(y,1)\n",
        "        X = tf.cast(X,\"float32\")\n",
        "        y = tf.cast(y,\"float32\")\n",
        "        return tf.expand_dims((X - 127.5)/128,2),tf.expand_dims(y,0)\n",
        "    dataset = tf.data.Dataset.from_tensor_slices((X,y))\n",
        "    dataset = dataset.map(preprocess)\n",
        "    \n",
        "    return dataset\n",
        "train_dataset = make_dataset(X_train,y_train)\n",
        "train_dataset"
      ],
      "execution_count": 4,
      "outputs": [
        {
          "output_type": "execute_result",
          "data": {
            "text/plain": [
              "<MapDataset shapes: ((28, 28, 1), (1,)), types: (tf.float32, tf.float32)>"
            ]
          },
          "metadata": {
            "tags": []
          },
          "execution_count": 4
        }
      ]
    },
    {
      "cell_type": "code",
      "metadata": {
        "id": "CBPJ_IRJFUd2",
        "colab_type": "code",
        "colab": {}
      },
      "source": [
        "def make_generator():\n",
        "  input_ = Input((100,))\n",
        "  x = Dense(7*7*256, use_bias=False)(input_)\n",
        "  x = BatchNormalization()(x)\n",
        "  x = LeakyReLU()(x)\n",
        "\n",
        "  x = Reshape((7, 7, 256))(x)\n",
        "\n",
        "  x = Conv2DTranspose(128, (5, 5), strides=(1, 1), padding='same', use_bias=False)(x)\n",
        "  x = BatchNormalization()(x)\n",
        "  x = LeakyReLU()(x)\n",
        "\n",
        "  x = Conv2DTranspose(64, (5, 5), strides=(2, 2), padding='same', use_bias=False)(x)\n",
        "  x = BatchNormalization()(x)\n",
        "  x = LeakyReLU()(x)\n",
        "\n",
        "  x = Conv2DTranspose(1, (5, 5), strides=(2, 2), padding='same', use_bias=False, activation='tanh')(x)\n",
        "\n",
        "  return Model(input_,x)\n",
        "\n",
        "def make_discriminator():\n",
        "  input_ = Input((28,28,1))\n",
        "\n",
        "  x = Conv2D(64, (5, 5), strides=(2, 2), padding='same')(input_)\n",
        "  x = LeakyReLU()(x)\n",
        "  x = Dropout(0.3)(x)\n",
        "\n",
        "  x = Conv2D(128, (5, 5), strides=(2, 2), padding='same')(x)\n",
        "  x = LeakyReLU()(x)\n",
        "  x = Dropout(0.3)(x)\n",
        "\n",
        "  x = Flatten()(x)\n",
        "  x = Dense(1)(x)\n",
        "\n",
        "  return Model(input_,x)\n"
      ],
      "execution_count": 0,
      "outputs": []
    },
    {
      "cell_type": "code",
      "metadata": {
        "id": "-xP8aatZGHV4",
        "colab_type": "code",
        "colab": {
          "base_uri": "https://localhost:8080/",
          "height": 1000
        },
        "outputId": "e265e323-b00d-4cab-fe7b-bc82bb28acdb"
      },
      "source": [
        "gen = make_generator()\n",
        "gen.summary()\n",
        "dis = make_discriminator()\n",
        "dis.summary()"
      ],
      "execution_count": 26,
      "outputs": [
        {
          "output_type": "stream",
          "text": [
            "Model: \"model_2\"\n",
            "_________________________________________________________________\n",
            "Layer (type)                 Output Shape              Param #   \n",
            "=================================================================\n",
            "input_7 (InputLayer)         [(None, 100)]             0         \n",
            "_________________________________________________________________\n",
            "dense_6 (Dense)              (None, 12544)             1254400   \n",
            "_________________________________________________________________\n",
            "batch_normalization_15 (Batc (None, 12544)             50176     \n",
            "_________________________________________________________________\n",
            "leaky_re_lu_17 (LeakyReLU)   (None, 12544)             0         \n",
            "_________________________________________________________________\n",
            "reshape_5 (Reshape)          (None, 7, 7, 256)         0         \n",
            "_________________________________________________________________\n",
            "conv2d_transpose_15 (Conv2DT (None, 7, 7, 128)         819200    \n",
            "_________________________________________________________________\n",
            "batch_normalization_16 (Batc (None, 7, 7, 128)         512       \n",
            "_________________________________________________________________\n",
            "leaky_re_lu_18 (LeakyReLU)   (None, 7, 7, 128)         0         \n",
            "_________________________________________________________________\n",
            "conv2d_transpose_16 (Conv2DT (None, 14, 14, 64)        204800    \n",
            "_________________________________________________________________\n",
            "batch_normalization_17 (Batc (None, 14, 14, 64)        256       \n",
            "_________________________________________________________________\n",
            "leaky_re_lu_19 (LeakyReLU)   (None, 14, 14, 64)        0         \n",
            "_________________________________________________________________\n",
            "conv2d_transpose_17 (Conv2DT (None, 28, 28, 1)         1600      \n",
            "=================================================================\n",
            "Total params: 2,330,944\n",
            "Trainable params: 2,305,472\n",
            "Non-trainable params: 25,472\n",
            "_________________________________________________________________\n",
            "Model: \"model_3\"\n",
            "_________________________________________________________________\n",
            "Layer (type)                 Output Shape              Param #   \n",
            "=================================================================\n",
            "input_8 (InputLayer)         [(None, 28, 28, 1)]       0         \n",
            "_________________________________________________________________\n",
            "conv2d_2 (Conv2D)            (None, 14, 14, 64)        1664      \n",
            "_________________________________________________________________\n",
            "leaky_re_lu_20 (LeakyReLU)   (None, 14, 14, 64)        0         \n",
            "_________________________________________________________________\n",
            "dropout_2 (Dropout)          (None, 14, 14, 64)        0         \n",
            "_________________________________________________________________\n",
            "conv2d_3 (Conv2D)            (None, 7, 7, 128)         204928    \n",
            "_________________________________________________________________\n",
            "leaky_re_lu_21 (LeakyReLU)   (None, 7, 7, 128)         0         \n",
            "_________________________________________________________________\n",
            "dropout_3 (Dropout)          (None, 7, 7, 128)         0         \n",
            "_________________________________________________________________\n",
            "flatten_1 (Flatten)          (None, 6272)              0         \n",
            "_________________________________________________________________\n",
            "dense_7 (Dense)              (None, 1)                 6273      \n",
            "=================================================================\n",
            "Total params: 212,865\n",
            "Trainable params: 212,865\n",
            "Non-trainable params: 0\n",
            "_________________________________________________________________\n"
          ],
          "name": "stdout"
        }
      ]
    },
    {
      "cell_type": "code",
      "metadata": {
        "id": "-kY4e163GRkF",
        "colab_type": "code",
        "colab": {}
      },
      "source": [
        "res = gen.predict(tf.random.normal([1, 100]))"
      ],
      "execution_count": 0,
      "outputs": []
    },
    {
      "cell_type": "code",
      "metadata": {
        "id": "4nnNWHJwHAKE",
        "colab_type": "code",
        "colab": {
          "base_uri": "https://localhost:8080/",
          "height": 282
        },
        "outputId": "0ea1912b-a64d-4ea3-e29d-b1e6af0f0df0"
      },
      "source": [
        "plt.imshow(res[0,:,:,0])"
      ],
      "execution_count": 30,
      "outputs": [
        {
          "output_type": "execute_result",
          "data": {
            "text/plain": [
              "<matplotlib.image.AxesImage at 0x7ff52be52d30>"
            ]
          },
          "metadata": {
            "tags": []
          },
          "execution_count": 30
        },
        {
          "output_type": "display_data",
          "data": {
            "image/png": "[encoded data removed]",
            "text/plain": [
              "<Figure size 432x288 with 1 Axes>"
            ]
          },
          "metadata": {
            "tags": []
          }
        }
      ]
    },
    {
      "cell_type": "code",
      "metadata": {
        "id": "3mOYgndPyBCU",
        "colab_type": "code",
        "colab": {}
      },
      "source": [
        "def train(noise_dim=100):\n",
        "  with strategy.scope():\n",
        "    cross_entropy = tf.keras.losses.BinaryCrossentropy(from_logits=True,reduction=tf.keras.losses.Reduction.NONE)\n",
        "    generator = make_generator()\n",
        "    discriminator = make_discriminator()\n",
        "\n",
        "    def discriminator_loss(real_output, fake_output):\n",
        "      real_loss = cross_entropy(tf.ones_like(real_output), real_output)\n",
        "      fake_loss = cross_entropy(tf.zeros_like(fake_output), fake_output)\n",
        "      total_loss = real_loss + fake_loss\n",
        "      return total_loss\n",
        "\n",
        "    def generator_loss(fake_output):\n",
        "      return cross_entropy(tf.ones_like(fake_output), fake_output)\n",
        "\n",
        "    generator_optimizer = tf.keras.optimizers.Adam(1e-4)\n",
        "    discriminator_optimizer = tf.keras.optimizers.Adam(1e-4)  \n",
        "\n",
        "\n",
        "    def train_on_batch(X):\n",
        "      noise = tf.random.normal([X.shape[0], noise_dim])\n",
        "      with tf.GradientTape() as g_tape,tf.GradientTape() as d_tape:\n",
        "        gen = generator(noise,training=True)\n",
        "        real_output = discriminator(X,training=True)\n",
        "        fake_output = discriminator(gen,training=True)\n",
        "        g_loss = generator_loss(fake_output)\n",
        "        g_loss = tf.reduce_sum(g_loss,keepdims=True) / X.shape[0]\n",
        "        d_loss = discriminator_loss(real_output,fake_output)\n",
        "        d_loss = tf.reduce_sum(d_loss,keepdims=True)  / X.shape[0]\n",
        "      g_gradients = g_tape.gradient(g_loss,generator.trainable_variables)\n",
        "      d_gradients = d_tape.gradient(d_loss,discriminator.trainable_variables)\n",
        "      generator_optimizer.apply_gradients(zip(g_gradients,generator.trainable_variables)) \n",
        "      discriminator_optimizer.apply_gradients(zip(d_gradients,discriminator.trainable_variables))\n",
        "      return g_loss,d_loss\n",
        "\n",
        "    @tf.function\n",
        "    def distributed_train_on_batch(X):\n",
        "      losses = strategy.experimental_run_v2(train_on_batch, args=(X,))\n",
        "      return [strategy.reduce(tf.distribute.ReduceOp.SUM, loss, axis=None) for loss in losses]\n",
        "\n",
        "\n",
        "    train_dataset = make_dataset(X_train,y_train)\n",
        "    train_dataset = train_dataset.shuffle(buffer_size=1000,reshuffle_each_iteration=True)\n",
        "    train_dataset = train_dataset.batch(2048)\n",
        "    \n",
        "    for i in range(120):\n",
        "      train_dist_dataset = strategy.experimental_distribute_dataset(train_dataset.take(25))\n",
        "      with tqdm.tqdm(train_dist_dataset) as pbar:\n",
        "        for step, (X,_) in enumerate(pbar):\n",
        "          g_loss,d_loss = distributed_train_on_batch(X)\n",
        "          pbar.set_description(f\"{i} epoch, step: {step}\")\n",
        "          pbar.set_postfix({\n",
        "              \"g_loss\":g_loss.numpy(),\n",
        "              \"d_loss\":d_loss.numpy()\n",
        "          })\n",
        "\n",
        "      if i % 5==0:\n",
        "        noise = tf.random.normal([1, 100])\n",
        "        gen = generator(noise,training=False)\n",
        "        plt.imshow(gen[0,:,:,0])\n",
        "        plt.show()\n",
        "\n",
        "  \n"
      ],
      "execution_count": 0,
      "outputs": []
    },
    {
      "cell_type": "code",
      "metadata": {
        "id": "4q2bTLtWzA0h",
        "colab_type": "code",
        "colab": {
          "base_uri": "https://localhost:8080/",
          "height": 1000
        },
        "outputId": "5363e28c-98d7-40d5-d4e8-f1aa97597602"
      },
      "source": [
        "train()"
      ],
      "execution_count": 11,
      "outputs": [
        {
          "output_type": "stream",
          "text": [
            "0 epoch, step: 24: : 25it [00:09,  5.39it/s, g_loss=[4.0887766], d_loss=[8.438573]]\n"
          ],
          "name": "stderr"
        },
        {
          "output_type": "display_data",
          "data": {
            "image/png": "[encoded data removed]",
            "text/plain": [
              "<Figure size 432x288 with 1 Axes>"
            ]
          },
          "metadata": {
            "tags": []
          }
        },
        {
          "output_type": "stream",
          "text": [
            "1 epoch, step: 24: : 25it [00:02, 11.48it/s, g_loss=[6.530446], d_loss=[7.0374947]]\n",
            "2 epoch, step: 24: : 25it [00:02, 11.73it/s, g_loss=[5.378515], d_loss=[8.023819]]\n",
            "3 epoch, step: 24: : 25it [00:02, 12.67it/s, g_loss=[6.829257], d_loss=[7.8850727]]\n",
            "4 epoch, step: 24: : 25it [00:02, 12.02it/s, g_loss=[5.608306], d_loss=[8.224026]]\n",
            "5 epoch, step: 24: : 25it [00:02, 10.99it/s, g_loss=[9.154142], d_loss=[6.1062922]]\n"
          ],
          "name": "stderr"
        },
        {
          "output_type": "display_data",
          "data": {
            "image/png": "[encoded data removed]",
            "text/plain": [
              "<Figure size 432x288 with 1 Axes>"
            ]
          },
          "metadata": {
            "tags": []
          }
        },
        {
          "output_type": "stream",
          "text": [
            "6 epoch, step: 24: : 25it [00:02, 11.80it/s, g_loss=[6.187089], d_loss=[9.92136]]\n",
            "7 epoch, step: 24: : 25it [00:02, 11.71it/s, g_loss=[7.804647], d_loss=[6.8038306]]\n",
            "8 epoch, step: 24: : 25it [00:02, 11.28it/s, g_loss=[6.4160786], d_loss=[9.660661]]\n",
            "9 epoch, step: 24: : 25it [00:02, 12.01it/s, g_loss=[4.7018943], d_loss=[12.908592]]\n",
            "10 epoch, step: 24: : 25it [00:02, 12.02it/s, g_loss=[6.1353827], d_loss=[10.623481]]\n"
          ],
          "name": "stderr"
        },
        {
          "output_type": "display_data",
          "data": {
            "image/png": "[encoded data removed]",
            "text/plain": [
              "<Figure size 432x288 with 1 Axes>"
            ]
          },
          "metadata": {
            "tags": []
          }
        },
        {
          "output_type": "stream",
          "text": [
            "11 epoch, step: 24: : 25it [00:02, 11.69it/s, g_loss=[5.656599], d_loss=[11.09662]]\n",
            "12 epoch, step: 24: : 25it [00:02, 11.97it/s, g_loss=[6.0690475], d_loss=[9.961733]]\n",
            "13 epoch, step: 24: : 25it [00:02, 12.27it/s, g_loss=[5.4241495], d_loss=[11.614553]]\n",
            "14 epoch, step: 24: : 25it [00:02, 12.01it/s, g_loss=[6.8743887], d_loss=[9.556203]]\n",
            "15 epoch, step: 24: : 25it [00:02, 12.30it/s, g_loss=[7.764685], d_loss=[8.06923]]\n"
          ],
          "name": "stderr"
        },
        {
          "output_type": "display_data",
          "data": {
            "image/png": "[encoded data removed]",
            "text/plain": [
              "<Figure size 432x288 with 1 Axes>"
            ]
          },
          "metadata": {
            "tags": []
          }
        },
        {
          "output_type": "stream",
          "text": [
            "16 epoch, step: 24: : 25it [00:02, 10.24it/s, g_loss=[4.385415], d_loss=[13.150582]]\n",
            "17 epoch, step: 24: : 25it [00:02, 11.99it/s, g_loss=[8.128906], d_loss=[7.2912846]]\n",
            "18 epoch, step: 24: : 25it [00:02, 11.92it/s, g_loss=[5.572168], d_loss=[12.535992]]\n",
            "19 epoch, step: 24: : 25it [00:02, 11.70it/s, g_loss=[8.317314], d_loss=[7.69363]]\n",
            "20 epoch, step: 24: : 25it [00:02, 11.61it/s, g_loss=[10.144182], d_loss=[5.917403]]\n"
          ],
          "name": "stderr"
        },
        {
          "output_type": "display_data",
          "data": {
            "image/png": "[encoded data removed]",
            "text/plain": [
              "<Figure size 432x288 with 1 Axes>"
            ]
          },
          "metadata": {
            "tags": []
          }
        },
        {
          "output_type": "stream",
          "text": [
            "21 epoch, step: 24: : 25it [00:02,  9.85it/s, g_loss=[5.1148925], d_loss=[11.806994]]\n",
            "22 epoch, step: 24: : 25it [00:02, 11.35it/s, g_loss=[6.9429135], d_loss=[9.016132]]\n",
            "23 epoch, step: 24: : 25it [00:02, 12.29it/s, g_loss=[8.051084], d_loss=[8.857828]]\n",
            "24 epoch, step: 24: : 25it [00:02, 12.12it/s, g_loss=[6.840948], d_loss=[10.934674]]\n",
            "25 epoch, step: 24: : 25it [00:02, 11.29it/s, g_loss=[6.2561083], d_loss=[10.62377]]\n"
          ],
          "name": "stderr"
        },
        {
          "output_type": "display_data",
          "data": {
            "image/png": "[encoded data removed]",
            "text/plain": [
              "<Figure size 432x288 with 1 Axes>"
            ]
          },
          "metadata": {
            "tags": []
          }
        },
        {
          "output_type": "stream",
          "text": [
            "26 epoch, step: 24: : 25it [00:02, 12.06it/s, g_loss=[7.6602087], d_loss=[7.946711]]\n",
            "27 epoch, step: 24: : 25it [00:02, 11.91it/s, g_loss=[6.2801204], d_loss=[10.473391]]\n",
            "28 epoch, step: 24: : 25it [00:02, 11.90it/s, g_loss=[5.4740925], d_loss=[12.648512]]\n",
            "29 epoch, step: 24: : 25it [00:02, 12.00it/s, g_loss=[5.352642], d_loss=[12.436212]]\n",
            "30 epoch, step: 24: : 25it [00:02, 12.17it/s, g_loss=[6.6417627], d_loss=[10.043695]]\n"
          ],
          "name": "stderr"
        },
        {
          "output_type": "display_data",
          "data": {
            "image/png": "[encoded data removed]",
            "text/plain": [
              "<Figure size 432x288 with 1 Axes>"
            ]
          },
          "metadata": {
            "tags": []
          }
        },
        {
          "output_type": "stream",
          "text": [
            "31 epoch, step: 24: : 25it [00:02, 11.73it/s, g_loss=[6.6961164], d_loss=[9.37383]]\n",
            "32 epoch, step: 24: : 25it [00:02, 11.73it/s, g_loss=[6.3234987], d_loss=[9.71116]]\n",
            "33 epoch, step: 24: : 25it [00:02, 11.88it/s, g_loss=[5.8248415], d_loss=[10.746196]]\n",
            "34 epoch, step: 24: : 25it [00:02, 12.03it/s, g_loss=[5.6327705], d_loss=[12.010859]]\n",
            "35 epoch, step: 24: : 25it [00:02, 11.92it/s, g_loss=[6.832183], d_loss=[9.468113]]\n"
          ],
          "name": "stderr"
        },
        {
          "output_type": "display_data",
          "data": {
            "image/png": "[encoded data removed]",
            "text/plain": [
              "<Figure size 432x288 with 1 Axes>"
            ]
          },
          "metadata": {
            "tags": []
          }
        },
        {
          "output_type": "stream",
          "text": [
            "36 epoch, step: 24: : 25it [00:02, 11.47it/s, g_loss=[6.2197347], d_loss=[10.212047]]\n",
            "37 epoch, step: 24: : 25it [00:02, 11.75it/s, g_loss=[5.6160994], d_loss=[11.00873]]\n",
            "38 epoch, step: 24: : 25it [00:02, 11.76it/s, g_loss=[5.947726], d_loss=[11.327812]]\n",
            "39 epoch, step: 24: : 25it [00:02, 11.58it/s, g_loss=[5.9005113], d_loss=[11.173339]]\n",
            "40 epoch, step: 24: : 25it [00:02, 11.95it/s, g_loss=[5.841349], d_loss=[10.841311]]\n"
          ],
          "name": "stderr"
        },
        {
          "output_type": "display_data",
          "data": {
            "image/png": "[encoded data removed]",
            "text/plain": [
              "<Figure size 432x288 with 1 Axes>"
            ]
          },
          "metadata": {
            "tags": []
          }
        },
        {
          "output_type": "stream",
          "text": [
            "41 epoch, step: 24: : 25it [00:02, 11.06it/s, g_loss=[7.281301], d_loss=[8.613471]]\n",
            "42 epoch, step: 24: : 25it [00:02, 11.25it/s, g_loss=[5.647462], d_loss=[11.871031]]\n",
            "43 epoch, step: 24: : 25it [00:02, 11.35it/s, g_loss=[4.6740355], d_loss=[13.826252]]\n",
            "44 epoch, step: 24: : 25it [00:02, 11.67it/s, g_loss=[5.753978], d_loss=[11.762077]]\n",
            "45 epoch, step: 24: : 25it [00:02, 11.44it/s, g_loss=[6.5211697], d_loss=[10.186924]]\n"
          ],
          "name": "stderr"
        },
        {
          "output_type": "display_data",
          "data": {
            "image/png": "[encoded data removed]",
            "text/plain": [
              "<Figure size 432x288 with 1 Axes>"
            ]
          },
          "metadata": {
            "tags": []
          }
        },
        {
          "output_type": "stream",
          "text": [
            "46 epoch, step: 24: : 25it [00:02, 12.00it/s, g_loss=[7.4839363], d_loss=[8.882679]]\n",
            "47 epoch, step: 24: : 25it [00:02, 11.43it/s, g_loss=[6.006963], d_loss=[11.2505045]]\n",
            "48 epoch, step: 24: : 25it [00:02, 11.87it/s, g_loss=[6.4481206], d_loss=[9.293652]]\n",
            "49 epoch, step: 24: : 25it [00:02, 11.80it/s, g_loss=[7.9914885], d_loss=[8.48921]]\n",
            "50 epoch, step: 24: : 25it [00:02, 11.73it/s, g_loss=[5.071776], d_loss=[13.697998]]\n"
          ],
          "name": "stderr"
        },
        {
          "output_type": "display_data",
          "data": {
            "image/png": "[encoded data removed]",
            "text/plain": [
              "<Figure size 432x288 with 1 Axes>"
            ]
          },
          "metadata": {
            "tags": []
          }
        },
        {
          "output_type": "stream",
          "text": [
            "51 epoch, step: 24: : 25it [00:02, 11.35it/s, g_loss=[6.3607883], d_loss=[10.474089]]\n",
            "52 epoch, step: 24: : 25it [00:02, 11.70it/s, g_loss=[7.15124], d_loss=[9.456035]]\n",
            "53 epoch, step: 24: : 25it [00:02, 11.74it/s, g_loss=[6.1984406], d_loss=[10.382478]]\n",
            "54 epoch, step: 24: : 25it [00:02, 11.21it/s, g_loss=[6.703433], d_loss=[9.756941]]\n",
            "55 epoch, step: 24: : 25it [00:02, 11.81it/s, g_loss=[5.9544077], d_loss=[11.425183]]\n"
          ],
          "name": "stderr"
        },
        {
          "output_type": "display_data",
          "data": {
            "image/png": "[encoded data removed]",
            "text/plain": [
              "<Figure size 432x288 with 1 Axes>"
            ]
          },
          "metadata": {
            "tags": []
          }
        },
        {
          "output_type": "stream",
          "text": [
            "56 epoch, step: 24: : 25it [00:02, 12.31it/s, g_loss=[5.6165285], d_loss=[12.27439]]\n",
            "57 epoch, step: 24: : 25it [00:02, 11.61it/s, g_loss=[6.638376], d_loss=[10.15538]]\n",
            "58 epoch, step: 24: : 25it [00:02, 12.15it/s, g_loss=[6.634861], d_loss=[9.948158]]\n",
            "59 epoch, step: 24: : 25it [00:02, 12.20it/s, g_loss=[5.6947136], d_loss=[11.522581]]\n",
            "60 epoch, step: 24: : 25it [00:02, 11.75it/s, g_loss=[5.6327357], d_loss=[11.204865]]\n"
          ],
          "name": "stderr"
        },
        {
          "output_type": "display_data",
          "data": {
            "image/png": "[encoded data removed]",
            "text/plain": [
              "<Figure size 432x288 with 1 Axes>"
            ]
          },
          "metadata": {
            "tags": []
          }
        },
        {
          "output_type": "stream",
          "text": [
            "61 epoch, step: 24: : 25it [00:02, 11.89it/s, g_loss=[6.646161], d_loss=[9.703091]]\n",
            "62 epoch, step: 24: : 25it [00:02, 11.71it/s, g_loss=[6.2025514], d_loss=[10.9709835]]\n",
            "63 epoch, step: 24: : 25it [00:02, 10.91it/s, g_loss=[6.549291], d_loss=[10.280204]]\n",
            "64 epoch, step: 24: : 25it [00:02, 11.52it/s, g_loss=[6.8143725], d_loss=[9.898235]]\n",
            "65 epoch, step: 24: : 25it [00:02, 11.49it/s, g_loss=[5.238977], d_loss=[12.002289]]\n"
          ],
          "name": "stderr"
        },
        {
          "output_type": "display_data",
          "data": {
            "image/png": "[encoded data removed]",
            "text/plain": [
              "<Figure size 432x288 with 1 Axes>"
            ]
          },
          "metadata": {
            "tags": []
          }
        },
        {
          "output_type": "stream",
          "text": [
            "66 epoch, step: 24: : 25it [00:02, 12.27it/s, g_loss=[7.237231], d_loss=[9.024414]]\n",
            "67 epoch, step: 24: : 25it [00:02, 10.92it/s, g_loss=[5.641024], d_loss=[12.789599]]\n",
            "68 epoch, step: 24: : 25it [00:02, 11.58it/s, g_loss=[6.7462587], d_loss=[10.286928]]\n",
            "69 epoch, step: 24: : 25it [00:02, 11.75it/s, g_loss=[7.803744], d_loss=[8.510338]]\n",
            "70 epoch, step: 24: : 25it [00:02, 11.21it/s, g_loss=[5.337681], d_loss=[11.776102]]\n"
          ],
          "name": "stderr"
        },
        {
          "output_type": "display_data",
          "data": {
            "image/png": "[encoded data removed]",
            "text/plain": [
              "<Figure size 432x288 with 1 Axes>"
            ]
          },
          "metadata": {
            "tags": []
          }
        },
        {
          "output_type": "stream",
          "text": [
            "71 epoch, step: 24: : 25it [00:02, 11.41it/s, g_loss=[7.248115], d_loss=[8.6836195]]\n",
            "72 epoch, step: 24: : 25it [00:02, 12.14it/s, g_loss=[6.6897864], d_loss=[10.540404]]\n",
            "73 epoch, step: 24: : 25it [00:02, 11.97it/s, g_loss=[6.6001587], d_loss=[10.408157]]\n",
            "74 epoch, step: 24: : 25it [00:02, 11.56it/s, g_loss=[7.099362], d_loss=[9.641409]]\n",
            "75 epoch, step: 24: : 25it [00:02, 11.69it/s, g_loss=[6.5229774], d_loss=[10.4509735]]\n"
          ],
          "name": "stderr"
        },
        {
          "output_type": "display_data",
          "data": {
            "image/png": "[encoded data removed]",
            "text/plain": [
              "<Figure size 432x288 with 1 Axes>"
            ]
          },
          "metadata": {
            "tags": []
          }
        },
        {
          "output_type": "stream",
          "text": [
            "76 epoch, step: 24: : 25it [00:02,  9.86it/s, g_loss=[6.8298244], d_loss=[9.986792]]\n",
            "77 epoch, step: 24: : 25it [00:02, 11.95it/s, g_loss=[5.428687], d_loss=[12.4512615]]\n",
            "78 epoch, step: 24: : 25it [00:02, 10.64it/s, g_loss=[6.026313], d_loss=[11.970714]]\n",
            "79 epoch, step: 24: : 25it [00:02, 12.21it/s, g_loss=[8.364468], d_loss=[8.07934]]\n",
            "80 epoch, step: 24: : 25it [00:02, 11.00it/s, g_loss=[8.56107], d_loss=[8.34806]]\n"
          ],
          "name": "stderr"
        },
        {
          "output_type": "display_data",
          "data": {
            "image/png": "[encoded data removed]",
            "text/plain": [
              "<Figure size 432x288 with 1 Axes>"
            ]
          },
          "metadata": {
            "tags": []
          }
        },
        {
          "output_type": "stream",
          "text": [
            "81 epoch, step: 24: : 25it [00:02, 11.05it/s, g_loss=[5.994237], d_loss=[10.846926]]\n",
            "82 epoch, step: 24: : 25it [00:02, 12.08it/s, g_loss=[8.296133], d_loss=[8.075718]]\n",
            "83 epoch, step: 24: : 25it [00:02, 11.99it/s, g_loss=[6.8566346], d_loss=[10.669759]]\n",
            "84 epoch, step: 24: : 25it [00:02, 10.02it/s, g_loss=[7.116052], d_loss=[9.415896]]\n",
            "85 epoch, step: 24: : 25it [00:02,  9.99it/s, g_loss=[7.15819], d_loss=[9.27095]]\n"
          ],
          "name": "stderr"
        },
        {
          "output_type": "display_data",
          "data": {
            "image/png": "[encoded data removed]",
            "text/plain": [
              "<Figure size 432x288 with 1 Axes>"
            ]
          },
          "metadata": {
            "tags": []
          }
        },
        {
          "output_type": "stream",
          "text": [
            "86 epoch, step: 24: : 25it [00:02, 12.17it/s, g_loss=[7.432939], d_loss=[8.892456]]\n",
            "87 epoch, step: 24: : 25it [00:02, 10.78it/s, g_loss=[7.9581995], d_loss=[8.878706]]\n",
            "88 epoch, step: 24: : 25it [00:02, 11.93it/s, g_loss=[4.7348213], d_loss=[13.326545]]\n",
            "89 epoch, step: 24: : 25it [00:02, 12.04it/s, g_loss=[7.908665], d_loss=[8.453768]]\n",
            "90 epoch, step: 24: : 25it [00:02, 11.89it/s, g_loss=[6.968732], d_loss=[10.647112]]\n"
          ],
          "name": "stderr"
        },
        {
          "output_type": "display_data",
          "data": {
            "image/png": "[encoded data removed]",
            "text/plain": [
              "<Figure size 432x288 with 1 Axes>"
            ]
          },
          "metadata": {
            "tags": []
          }
        },
        {
          "output_type": "stream",
          "text": [
            "91 epoch, step: 24: : 25it [00:02, 12.00it/s, g_loss=[8.637276], d_loss=[8.024575]]\n",
            "92 epoch, step: 24: : 25it [00:02, 12.18it/s, g_loss=[7.746075], d_loss=[9.406708]]\n",
            "93 epoch, step: 24: : 25it [00:02, 12.17it/s, g_loss=[5.8723955], d_loss=[11.4057]]\n",
            "94 epoch, step: 24: : 25it [00:02, 11.87it/s, g_loss=[8.349178], d_loss=[8.270232]]\n",
            "95 epoch, step: 24: : 25it [00:02, 12.18it/s, g_loss=[8.020337], d_loss=[9.552109]]\n"
          ],
          "name": "stderr"
        },
        {
          "output_type": "display_data",
          "data": {
            "image/png": "[encoded data removed]",
            "text/plain": [
              "<Figure size 432x288 with 1 Axes>"
            ]
          },
          "metadata": {
            "tags": []
          }
        },
        {
          "output_type": "stream",
          "text": [
            "96 epoch, step: 24: : 25it [00:02, 12.02it/s, g_loss=[6.761087], d_loss=[11.862923]]\n",
            "97 epoch, step: 24: : 25it [00:02,  9.18it/s, g_loss=[5.822874], d_loss=[11.806613]]\n",
            "98 epoch, step: 24: : 25it [00:02, 11.55it/s, g_loss=[7.2098517], d_loss=[9.002464]]\n",
            "99 epoch, step: 24: : 25it [00:02, 11.79it/s, g_loss=[8.180539], d_loss=[8.167284]]\n",
            "100 epoch, step: 24: : 25it [00:02, 12.05it/s, g_loss=[7.141444], d_loss=[9.667201]]\n"
          ],
          "name": "stderr"
        },
        {
          "output_type": "display_data",
          "data": {
            "image/png": "[encoded data removed]",
            "text/plain": [
              "<Figure size 432x288 with 1 Axes>"
            ]
          },
          "metadata": {
            "tags": []
          }
        },
        {
          "output_type": "stream",
          "text": [
            "101 epoch, step: 24: : 25it [00:02, 12.37it/s, g_loss=[6.8724995], d_loss=[10.383929]]\n",
            "102 epoch, step: 24: : 25it [00:02, 11.58it/s, g_loss=[6.8360634], d_loss=[10.212403]]\n",
            "103 epoch, step: 24: : 25it [00:02, 11.16it/s, g_loss=[6.9972057], d_loss=[9.387496]]\n",
            "104 epoch, step: 24: : 25it [00:02, 11.94it/s, g_loss=[7.5712023], d_loss=[9.017332]]\n",
            "105 epoch, step: 24: : 25it [00:02, 11.17it/s, g_loss=[6.667668], d_loss=[10.929008]]\n"
          ],
          "name": "stderr"
        },
        {
          "output_type": "display_data",
          "data": {
            "image/png": "[encoded data removed]",
            "text/plain": [
              "<Figure size 432x288 with 1 Axes>"
            ]
          },
          "metadata": {
            "tags": []
          }
        },
        {
          "output_type": "stream",
          "text": [
            "106 epoch, step: 24: : 25it [00:02, 12.35it/s, g_loss=[6.525295], d_loss=[10.929231]]\n",
            "107 epoch, step: 24: : 25it [00:02, 12.36it/s, g_loss=[7.6370726], d_loss=[8.534961]]\n",
            "108 epoch, step: 24: : 25it [00:02, 11.86it/s, g_loss=[7.5762053], d_loss=[8.782919]]\n",
            "109 epoch, step: 24: : 25it [00:02, 10.98it/s, g_loss=[6.122772], d_loss=[11.595771]]\n",
            "110 epoch, step: 24: : 25it [00:02, 11.50it/s, g_loss=[6.6853333], d_loss=[11.089676]]\n"
          ],
          "name": "stderr"
        },
        {
          "output_type": "display_data",
          "data": {
            "image/png": "[encoded data removed]",
            "text/plain": [
              "<Figure size 432x288 with 1 Axes>"
            ]
          },
          "metadata": {
            "tags": []
          }
        },
        {
          "output_type": "stream",
          "text": [
            "111 epoch, step: 24: : 25it [00:02, 12.15it/s, g_loss=[8.500721], d_loss=[8.105754]]\n",
            "112 epoch, step: 24: : 25it [00:02, 11.70it/s, g_loss=[8.020984], d_loss=[9.305985]]\n",
            "113 epoch, step: 24: : 25it [00:02, 11.25it/s, g_loss=[7.5859528], d_loss=[9.414709]]\n",
            "114 epoch, step: 24: : 25it [00:02, 10.75it/s, g_loss=[6.1292], d_loss=[12.116015]]\n",
            "115 epoch, step: 24: : 25it [00:02, 12.45it/s, g_loss=[7.0488725], d_loss=[9.857134]]\n"
          ],
          "name": "stderr"
        },
        {
          "output_type": "display_data",
          "data": {
            "image/png": "[encoded data removed]",
            "text/plain": [
              "<Figure size 432x288 with 1 Axes>"
            ]
          },
          "metadata": {
            "tags": []
          }
        },
        {
          "output_type": "stream",
          "text": [
            "116 epoch, step: 24: : 25it [00:02, 12.19it/s, g_loss=[9.453232], d_loss=[6.6765013]]\n",
            "117 epoch, step: 24: : 25it [00:02, 10.79it/s, g_loss=[9.17962], d_loss=[7.297981]]\n",
            "118 epoch, step: 24: : 25it [00:02, 11.20it/s, g_loss=[6.6004415], d_loss=[11.92892]]\n",
            "119 epoch, step: 24: : 25it [00:02, 12.31it/s, g_loss=[5.4842014], d_loss=[12.931931]]\n"
          ],
          "name": "stderr"
        }
      ]
    },
    {
      "cell_type": "code",
      "metadata": {
        "id": "w1hjPQHIL50D",
        "colab_type": "code",
        "colab": {}
      },
      "source": [
        ""
      ],
      "execution_count": 0,
      "outputs": []
    }
  ]
}