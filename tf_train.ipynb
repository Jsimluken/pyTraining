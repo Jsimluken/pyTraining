{
 "cells": [
  {
   "cell_type": "code",
   "execution_count": 1,
   "metadata": {},
   "outputs": [],
   "source": [
    "import tensorflow as tf\n",
    "initializer = tf.global_variables_initializer"
   ]
  },
  {
   "cell_type": "code",
   "execution_count": 18,
   "metadata": {},
   "outputs": [],
   "source": [
    "a = tf.constant(3.)\n",
    "b = tf.constant(2.)\n",
    "c = a*b\n",
    "d = c**2"
   ]
  },
  {
   "cell_type": "code",
   "execution_count": null,
   "metadata": {},
   "outputs": [],
   "source": [
    "print(a,b,c,d)"
   ]
  },
  {
   "cell_type": "code",
   "execution_count": null,
   "metadata": {},
   "outputs": [],
   "source": [
    "sess = tf.Session()\n",
    "res = sess.run(d)\n",
    "sess.close()\n",
    "res"
   ]
  },
  {
   "cell_type": "code",
   "execution_count": null,
   "metadata": {},
   "outputs": [],
   "source": [
    "isess = tf.InteractiveSession()"
   ]
  },
  {
   "cell_type": "code",
   "execution_count": null,
   "metadata": {},
   "outputs": [],
   "source": [
    "c.eval()"
   ]
  },
  {
   "cell_type": "code",
   "execution_count": null,
   "metadata": {},
   "outputs": [],
   "source": [
    "a.eval()"
   ]
  },
  {
   "cell_type": "code",
   "execution_count": null,
   "metadata": {},
   "outputs": [],
   "source": [
    "d.eval()"
   ]
  },
  {
   "cell_type": "code",
   "execution_count": 46,
   "metadata": {},
   "outputs": [],
   "source": [
    "optimizer = tf.train.GradientDescentOptimizer(0.1)"
   ]
  },
  {
   "cell_type": "code",
   "execution_count": 47,
   "metadata": {},
   "outputs": [],
   "source": [
    "x = tf.Variable(0.)\n",
    "error = (a-x)**2\n",
    "loss = tf.reduce_sum(error)"
   ]
  },
  {
   "cell_type": "code",
   "execution_count": 48,
   "metadata": {},
   "outputs": [
    {
     "name": "stdout",
     "output_type": "stream",
     "text": [
      "loss:5.760000228881836, x is 0.6000000238418579\n",
      "loss:3.6863999366760254, x is 1.0800000429153442\n",
      "loss:2.3592960834503174, x is 1.4639999866485596\n",
      "loss:1.5099495649337769, x is 1.7711999416351318\n",
      "loss:0.9663678407669067, x is 2.0169599056243896\n",
      "loss:0.6184753179550171, x is 2.2135679721832275\n",
      "loss:0.39582422375679016, x is 2.370854377746582\n",
      "loss:0.2533273994922638, x is 2.4966835975646973\n",
      "loss:0.16212961077690125, x is 2.597346782684326\n",
      "loss:0.10376295447349548, x is 2.677877426147461\n",
      "loss:0.06640829145908356, x is 2.7423019409179688\n",
      "loss:0.042501285672187805, x is 2.793841600418091\n",
      "loss:0.027200838550925255, x is 2.835073232650757\n",
      "loss:0.01740851067006588, x is 2.868058681488037\n",
      "loss:0.011141467839479446, x is 2.894446849822998\n",
      "loss:0.007130555342882872, x is 2.915557384490967\n",
      "loss:0.004563542548567057, x is 2.932446002960205\n",
      "loss:0.0029206774197518826, x is 2.9459567070007324\n",
      "loss:0.0018692294834181666, x is 2.9567654132843018\n",
      "loss:0.001196303521282971, x is 2.9654123783111572\n",
      "loss:0.0007656369125470519, x is 2.97232985496521\n",
      "loss:0.0004900118801742792, x is 2.9778637886047363\n",
      "loss:0.0003136092855129391, x is 2.9822909832000732\n",
      "loss:0.00020071264589205384, x is 2.985832691192627\n",
      "loss:0.00012845825403928757, x is 2.98866605758667\n",
      "loss:8.221155439969152e-05, x is 2.9909329414367676\n",
      "loss:5.261539263301529e-05, x is 2.992746353149414\n",
      "loss:3.367329918546602e-05, x is 2.994197130203247\n",
      "loss:2.1550467863562517e-05, x is 2.9953577518463135\n",
      "loss:1.3792653589916881e-05, x is 2.996286153793335\n",
      "loss:8.827864803606644e-06, x is 2.9970288276672363\n",
      "loss:5.650286766467616e-06, x is 2.9976229667663574\n",
      "loss:3.6161836760584265e-06, x is 2.998098373413086\n",
      "loss:2.3145025807025377e-06, x is 2.998478651046753\n",
      "loss:1.4813977031735703e-06, x is 2.9987828731536865\n",
      "loss:9.480945664108731e-07, x is 2.999026298522949\n",
      "loss:6.067062372494547e-07, x is 2.999221086502075\n",
      "loss:3.884108537022257e-07, x is 2.9993767738342285\n",
      "loss:2.4853540026015253e-07, x is 2.9995014667510986\n",
      "loss:1.5910069350866252e-07, x is 2.999601125717163\n",
      "loss:1.0176358955504838e-07, x is 2.999680995941162\n",
      "loss:6.50800302537391e-08, x is 2.9997448921203613\n",
      "loss:4.165121936239302e-08, x is 2.999795913696289\n",
      "loss:2.667235321496264e-08, x is 2.9998366832733154\n",
      "loss:1.707030605757609e-08, x is 2.9998693466186523\n",
      "loss:1.0905068847932853e-08, x is 2.9998955726623535\n",
      "loss:6.963318810448982e-09, x is 2.9999165534973145\n",
      "loss:4.456524038687348e-09, x is 2.9999332427978516\n",
      "loss:2.852175384759903e-09, x is 2.9999465942382812\n",
      "loss:1.8213199837191496e-09, x is 2.999957323074341\n"
     ]
    }
   ],
   "source": [
    "with tf.Session() as sess:\n",
    "    sess.run(initializer())\n",
    "    \n",
    "    for i in range(50):\n",
    "        sess.run(optimizer.minimize(error))\n",
    "        less_v = error.eval()\n",
    "        x_res = sess.run(x)\n",
    "        print(f\"loss:{less_v}, x is {x_res}\")"
   ]
  }
 ],
 "metadata": {
  "kernelspec": {
   "display_name": "Python 3",
   "language": "python",
   "name": "python3"
  },
  "language_info": {
   "codemirror_mode": {
    "name": "ipython",
    "version": 3
   },
   "file_extension": ".py",
   "mimetype": "text/x-python",
   "name": "python",
   "nbconvert_exporter": "python",
   "pygments_lexer": "ipython3",
   "version": "3.6.8"
  }
 },
 "nbformat": 4,
 "nbformat_minor": 2
}
